{
  "nbformat": 4,
  "nbformat_minor": 0,
  "metadata": {
    "colab": {
      "provenance": [],
      "machine_shape": "hm",
      "gpuType": "L4"
    },
    "kernelspec": {
      "name": "python3",
      "display_name": "Python 3"
    },
    "language_info": {
      "name": "python"
    },
    "accelerator": "GPU"
  },
  "cells": [
    {
      "cell_type": "code",
      "execution_count": 1,
      "metadata": {
        "id": "s9EMM_Twwj7I"
      },
      "outputs": [],
      "source": [
        "import os\n",
        "import numpy as np\n",
        "import pandas as pd\n",
        "from sklearn.pipeline import Pipeline\n",
        "from sklearn.preprocessing import FunctionTransformer\n",
        "from sklearn.model_selection import train_test_split, StratifiedKFold, cross_val_score\n",
        "from sklearn.metrics import accuracy_score, classification_report\n",
        "from transformers import DistilBertModel, DistilBertTokenizerFast\n",
        "import torch\n",
        "from transformers import (\n",
        "    DistilBertTokenizerFast,\n",
        "    DistilBertForSequenceClassification,\n",
        "    Trainer,\n",
        "    TrainingArguments,\n",
        "    DataCollatorWithPadding\n",
        ")\n",
        "from datasets import Dataset\n",
        "from sklearn.metrics import precision_recall_fscore_support\n",
        "from transformers import T5Tokenizer, T5ForConditionalGeneration, Trainer, TrainingArguments\n",
        "from datasets import Dataset\n",
        "import torch\n",
        "from nltk.translate.bleu_score import sentence_bleu, SmoothingFunction"
      ]
    },
    {
      "cell_type": "code",
      "source": [
        "from google.colab import drive\n",
        "drive.mount('/content/drive')"
      ],
      "metadata": {
        "colab": {
          "base_uri": "https://localhost:8080/"
        },
        "id": "YelhLoTjwr6Z",
        "outputId": "b7e1026a-2d68-4af1-cb13-02eb8da0068a"
      },
      "execution_count": 2,
      "outputs": [
        {
          "output_type": "stream",
          "name": "stdout",
          "text": [
            "Mounted at /content/drive\n"
          ]
        }
      ]
    },
    {
      "cell_type": "code",
      "source": [
        "df = pd.read_csv('/content/drive/MyDrive/Grammar_autocorrection_df1_new.csv')"
      ],
      "metadata": {
        "id": "m57o9eOFwurN"
      },
      "execution_count": 3,
      "outputs": []
    },
    {
      "cell_type": "markdown",
      "source": [
        "# DistilBERT"
      ],
      "metadata": {
        "id": "7TQCdJZlEKhh"
      }
    },
    {
      "cell_type": "code",
      "source": [
        "# # ── 0) Configuration ────────────────────────────────────────────────────────\n",
        "# MODEL_DIR = 'distilbert_saved_model'\n",
        "\n",
        "# # ── 1) If already saved, just reload ────────────────────────────────────────\n",
        "# if os.path.isdir(MODEL_DIR):\n",
        "#     tokenizer = DistilBertTokenizerFast.from_pretrained(MODEL_DIR)\n",
        "#     model     = DistilBertForSequenceClassification.from_pretrained(MODEL_DIR)\n",
        "#     print(f\"Loaded existing model from '{MODEL_DIR}', skipping training.\")\n",
        "\n",
        "# # ── 2) Otherwise: 5-fold CV with metrics + retrain full head ────────────────\n",
        "# else:\n",
        "#     # Prepare texts & labels\n",
        "#     texts  = df['Ungrammatical Statement'].tolist() + df['Standard English'].tolist()\n",
        "#     labels = [0]*len(df) + [1]*len(df)\n",
        "\n",
        "#     # Initialize tokenizer & pre-tokenize\n",
        "#     tokenizer = DistilBertTokenizerFast.from_pretrained('distilbert-base-uncased')\n",
        "#     encodings = tokenizer(texts, truncation=True, padding=True, max_length=128)\n",
        "\n",
        "#     # Build Hugging Face Dataset\n",
        "#     dataset = Dataset.from_dict({\n",
        "#         'input_ids':      encodings['input_ids'],\n",
        "#         'attention_mask': encodings['attention_mask'],\n",
        "#         'labels':         labels\n",
        "#     })\n",
        "\n",
        "#     # Load model & freeze encoder layers\n",
        "#     model = DistilBertForSequenceClassification.from_pretrained(\n",
        "#         'distilbert-base-uncased',\n",
        "#         num_labels=2\n",
        "#     )\n",
        "#     for param in model.distilbert.parameters():\n",
        "#         param.requires_grad = False\n",
        "\n",
        "#     # Data collator for dynamic padding\n",
        "#     data_collator = DataCollatorWithPadding(tokenizer)\n",
        "\n",
        "#     # Metric computation function\n",
        "#     def compute_metrics(p):\n",
        "#         preds = p.predictions.argmax(-1)\n",
        "#         acc   = accuracy_score(p.label_ids, preds)\n",
        "#         prec, rec, f1, _ = precision_recall_fscore_support(\n",
        "#             p.label_ids, preds, average='binary'\n",
        "#         )\n",
        "#         return {\n",
        "#             'accuracy':  acc,\n",
        "#             'precision': prec,\n",
        "#             'recall':    rec,\n",
        "#             'f1':        f1\n",
        "#         }\n",
        "\n",
        "#     # Prepare lists to collect per-fold metrics\n",
        "#     accuracy_scores  = []\n",
        "#     precision_scores = []\n",
        "#     recall_scores    = []\n",
        "#     f1_scores        = []\n",
        "\n",
        "#     # 5-fold CV, 1 epoch per fold for speed\n",
        "#     cv = StratifiedKFold(n_splits=5, shuffle=True, random_state=42)\n",
        "#     for fold, (train_idx, val_idx) in enumerate(cv.split(texts, labels), start=1):\n",
        "#         print(f\"=== Fold {fold}/5 ===\")\n",
        "#         train_ds = dataset.select(train_idx)\n",
        "#         val_ds   = dataset.select(val_idx)\n",
        "\n",
        "#         training_args = TrainingArguments(\n",
        "#             output_dir=f'./cv_fold{fold}',\n",
        "#             num_train_epochs=1,\n",
        "#             per_device_train_batch_size=16,\n",
        "#             per_device_eval_batch_size=32,\n",
        "#             eval_strategy='epoch',\n",
        "#             logging_strategy='epoch',\n",
        "#             save_strategy='no',\n",
        "#             fp16=True,               # set to False if no GPU\n",
        "#             report_to=['none'],\n",
        "#             seed=42\n",
        "#         )\n",
        "\n",
        "#         trainer = Trainer(\n",
        "#             model=model,\n",
        "#             args=training_args,\n",
        "#             train_dataset=train_ds,\n",
        "#             eval_dataset=val_ds,\n",
        "#             data_collator=data_collator,\n",
        "#             compute_metrics=compute_metrics\n",
        "#         )\n",
        "\n",
        "#         trainer.train()\n",
        "#         metrics = trainer.evaluate()\n",
        "\n",
        "#         # Collect metrics\n",
        "#         accuracy_scores.append(metrics['eval_accuracy'])\n",
        "#         precision_scores.append(metrics['eval_precision'])\n",
        "#         recall_scores.append(metrics['eval_recall'])\n",
        "#         f1_scores.append(metrics['eval_f1'])\n",
        "\n",
        "#         # Print per-fold results\n",
        "#         print(f\"Fold {fold}: \"\n",
        "#               f\"Acc {metrics['eval_accuracy']:.4f}, \"\n",
        "#               f\"Prec {metrics['eval_precision']:.4f}, \"\n",
        "#               f\"Rec {metrics['eval_recall']:.4f}, \"\n",
        "#               f\"F1 {metrics['eval_f1']:.4f}\")\n",
        "\n",
        "#     # Summarize CV\n",
        "#     def report(name, vals):\n",
        "#         mean, std = np.mean(vals), np.std(vals)\n",
        "#         print(f\"{name}: {mean:.4f} ± {std:.4f}\")\n",
        "\n",
        "#     print(\"\\n=== CV summary over 5 folds ===\")\n",
        "#     report(\"Accuracy\",  accuracy_scores)\n",
        "#     report(\"Precision\", precision_scores)\n",
        "#     report(\"Recall\",    recall_scores)\n",
        "#     report(\"F1-score\",  f1_scores)\n",
        "\n",
        "#     # Retrain head on full dataset\n",
        "#     print(\"\\nRetraining classifier head on the full dataset…\")\n",
        "#     full_args = TrainingArguments(\n",
        "#         output_dir='./full_train',\n",
        "#         num_train_epochs=2,\n",
        "#         per_device_train_batch_size=16,\n",
        "#         save_strategy='no',\n",
        "#         fp16=True,\n",
        "#         report_to=['none']\n",
        "#     )\n",
        "#     trainer_full = Trainer(\n",
        "#         model=model,\n",
        "#         args=full_args,\n",
        "#         train_dataset=dataset,\n",
        "#         data_collator=data_collator,\n",
        "#         compute_metrics=compute_metrics\n",
        "#     )\n",
        "#     trainer_full.train()\n",
        "\n",
        "#     # Save the fine-tuned model & tokenizer\n",
        "#     model.save_pretrained(MODEL_DIR)\n",
        "#     tokenizer.save_pretrained(MODEL_DIR)\n",
        "#     print(f\"Saved model in '{MODEL_DIR}'\")\n"
      ],
      "metadata": {
        "id": "6BYqyHQtwzyg"
      },
      "execution_count": null,
      "outputs": []
    },
    {
      "cell_type": "code",
      "source": [
        "# # 1) Load your saved model & tokenizer\n",
        "# MODEL_DIR = 'distilbert_saved_model'\n",
        "# tokenizer = DistilBertTokenizerFast.from_pretrained(MODEL_DIR)\n",
        "# model     = DistilBertForSequenceClassification.from_pretrained(MODEL_DIR)\n",
        "# model.eval()\n",
        "\n",
        "# # 2) Prompt the user for input\n",
        "# sentence = input(\"Enter a sentence to check (grammar):\\n> \")\n",
        "\n",
        "# # 3) Tokenize & forward pass\n",
        "# enc = tokenizer([sentence], padding=True, truncation=True, return_tensors='pt', max_length=128)\n",
        "# with torch.no_grad():\n",
        "#     logits = model(**enc).logits\n",
        "\n",
        "# # 4) Convert to probabilities & predicted label\n",
        "# probs = torch.softmax(logits, dim=-1)[0]\n",
        "# pred  = probs.argmax().item()\n",
        "# label = \"Correct\" if pred == 1 else \"Ungrammatical\"\n",
        "# score = probs[pred].item()\n",
        "\n",
        "# # 5) Print result\n",
        "# print(f\"\\n\\\"{sentence}\\\" → {label} (confidence: {score:.2f})\")"
      ],
      "metadata": {
        "id": "yJRQg-aIN6wy"
      },
      "execution_count": null,
      "outputs": []
    },
    {
      "cell_type": "markdown",
      "source": [
        "#T5 Model\n"
      ],
      "metadata": {
        "id": "Ecw7gE_dyUL2"
      }
    },
    {
      "cell_type": "code",
      "source": [
        "# import os\n",
        "# import pandas as pd\n",
        "# from transformers import T5Tokenizer, T5ForConditionalGeneration, Trainer, TrainingArguments\n",
        "# from datasets import Dataset\n",
        "# import torch\n",
        "# from nltk.translate.bleu_score import sentence_bleu, SmoothingFunction\n",
        "\n",
        "\n",
        "# model_name = \"t5-small\"\n",
        "# model_dir = \"./t5-grammar-correction\"\n",
        "\n",
        "# # Load tokenizer and model\n",
        "# tokenizer = T5Tokenizer.from_pretrained(model_name)\n",
        "\n",
        "# if os.path.exists(model_dir):\n",
        "#     print(\"Saved model found. Loading the model...\")\n",
        "#     model = T5ForConditionalGeneration.from_pretrained(model_dir)\n",
        "# else:\n",
        "#     print(\"No saved model found. Training model from scratch...\")\n",
        "#     model = T5ForConditionalGeneration.from_pretrained(model_name)\n",
        "\n",
        "#     # Prepare input and target sequences\n",
        "#     inputs = [\"fix: \" + text for text in df['Ungrammatical Statement']]\n",
        "#     targets = df['Standard English'].tolist()\n",
        "\n",
        "#     # Tokenize input and output\n",
        "#     input_encodings = tokenizer(inputs, padding=\"max_length\", truncation=True, max_length=64, return_tensors=\"pt\")\n",
        "#     target_encodings = tokenizer(targets, padding=\"max_length\", truncation=True, max_length=64, return_tensors=\"pt\")\n",
        "\n",
        "#     labels = target_encodings[\"input_ids\"]\n",
        "#     labels[labels == tokenizer.pad_token_id] = -100\n",
        "\n",
        "#     dataset = Dataset.from_dict({\n",
        "#         'input_ids': input_encodings['input_ids'],\n",
        "#         'attention_mask': input_encodings['attention_mask'],\n",
        "#         'labels': labels\n",
        "#     })\n",
        "\n",
        "#     os.environ[\"WANDB_DISABLED\"] = \"true\"\n",
        "\n",
        "#     training_args = TrainingArguments(\n",
        "#         output_dir=model_dir,\n",
        "#         per_device_train_batch_size=8,\n",
        "#         per_device_eval_batch_size=8,\n",
        "#         num_train_epochs=4,\n",
        "#         logging_dir=\"./logs\",\n",
        "#         save_steps=500,\n",
        "#         save_total_limit=2\n",
        "#     )\n",
        "\n",
        "#     trainer = Trainer(\n",
        "#         model=model,\n",
        "#         args=training_args,\n",
        "#         train_dataset=dataset,\n",
        "#         eval_dataset=dataset,\n",
        "#         # tokenizer=tokenizer  # Optional to keep or remove based on warning\n",
        "#     )\n",
        "\n",
        "#     trainer.train()\n",
        "#     trainer.save_model(model_dir)\n",
        "\n",
        "# # Grammar correction function\n",
        "# def correct_grammar(sentence):\n",
        "#     input_text = \"fix: \" + sentence\n",
        "#     input_ids = tokenizer.encode(input_text, return_tensors=\"pt\", max_length=64, truncation=True)\n",
        "#     output_ids = model.generate(input_ids, max_length=64, num_beams=4, early_stopping=True)\n",
        "#     return tokenizer.decode(output_ids[0], skip_special_tokens=True)\n",
        "\n",
        "# # Evaluation and test code (same as before)...\n",
        "# print(\"\\nEvaluating model on the dataset...\\n\")\n",
        "\n",
        "# smoothie = SmoothingFunction().method4\n",
        "# total_bleu = 0\n",
        "# correct_count = 0\n",
        "\n",
        "# for ungram, ref in zip(df['Ungrammatical Statement'], df['Standard English']):\n",
        "#     pred = correct_grammar(ungram).strip()\n",
        "#     ref = ref.strip()\n",
        "\n",
        "#     # BLEU score\n",
        "#     ref_tokens = ref.split()\n",
        "#     pred_tokens = pred.split()\n",
        "#     bleu = sentence_bleu([ref_tokens], pred_tokens, smoothing_function=smoothie)\n",
        "#     total_bleu += bleu\n",
        "\n",
        "#     # Exact match accuracy (case-insensitive)\n",
        "#     if pred.lower() == ref.lower():\n",
        "#         correct_count += 1\n",
        "\n",
        "# average_bleu = total_bleu / len(df)\n",
        "# accuracy = correct_count / len(df)\n",
        "\n",
        "# print(f\"Average BLEU score: {average_bleu:.4f}\")\n",
        "# print(f\"Exact Match Accuracy: {accuracy:.2%}\")\n",
        "\n",
        "\n",
        "# print(f\"Average BLEU score: {average_bleu:.4f}\")\n",
        "# print(f\"Exact Match Accuracy: {accuracy:.2%}\")\n",
        "\n",
        "# # --- Test on a new example sentence ---\n",
        "# user_sentence = input(\"\\nEnter a sentence to correct grammar:\\n\")\n",
        "# corrected_sentence = correct_grammar(user_sentence)\n",
        "# print(\"Corrected:\", corrected_sentence)"
      ],
      "metadata": {
        "id": "PCrGBDDOHXD8"
      },
      "execution_count": null,
      "outputs": []
    },
    {
      "cell_type": "code",
      "source": [
        "import os\n",
        "import numpy as np\n",
        "import pandas as pd\n",
        "from sklearn.model_selection import KFold\n",
        "from sklearn.metrics import precision_recall_fscore_support, accuracy_score\n",
        "from transformers import T5Tokenizer, T5ForConditionalGeneration, Trainer, TrainingArguments\n",
        "from datasets import Dataset\n",
        "from nltk.translate.bleu_score import sentence_bleu, SmoothingFunction\n",
        "import torch\n",
        "\n",
        "model_name = \"t5-small\"\n",
        "model_dir = \"./t5-grammar-correction-new\"\n",
        "k_folds = 5\n",
        "num_train_epochs = 3\n",
        "max_length = 64\n",
        "\n",
        "tokenizer = T5Tokenizer.from_pretrained(model_name)\n",
        "\n",
        "def report(name, vals):\n",
        "    mean, std = np.mean(vals), np.std(vals)\n",
        "    print(f\"{name}: {mean:.4f} ± {std:.4f}\")\n",
        "\n",
        "smoothie = SmoothingFunction().method4\n",
        "\n",
        "# Load your dataframe 'df' before this point\n",
        "# df must have columns: 'Ungrammatical Statement', 'Standard English'\n",
        "\n",
        "if os.path.exists(model_dir):\n",
        "    print(\"Saved model found. Loading the model...\")\n",
        "    model = T5ForConditionalGeneration.from_pretrained(model_dir)\n",
        "\n",
        "else:\n",
        "    print(\"No saved model found. Starting training with cross-validation...\")\n",
        "\n",
        "    accuracy_scores = []\n",
        "    precision_scores = []\n",
        "    recall_scores = []\n",
        "    f1_scores = []\n",
        "    bleu_scores = []\n",
        "\n",
        "    kf = KFold(n_splits=k_folds, shuffle=True, random_state=42)\n",
        "    fold_num = 1\n",
        "\n",
        "    for train_index, val_index in kf.split(df):\n",
        "        print(f\"\\n=== Fold {fold_num} ===\")\n",
        "        train_df = df.iloc[train_index].reset_index(drop=True)\n",
        "        val_df = df.iloc[val_index].reset_index(drop=True)\n",
        "\n",
        "        # Prepare datasets\n",
        "        train_inputs = [\"fix: \" + text for text in train_df['Ungrammatical Statement']]\n",
        "        train_targets = train_df['Standard English'].tolist()\n",
        "\n",
        "        val_inputs = [\"fix: \" + text for text in val_df['Ungrammatical Statement']]\n",
        "        val_targets = val_df['Standard English'].tolist()\n",
        "\n",
        "        # Tokenize train\n",
        "        train_input_encodings = tokenizer(train_inputs, padding=\"max_length\", truncation=True, max_length=max_length, return_tensors=\"pt\")\n",
        "        train_target_encodings = tokenizer(train_targets, padding=\"max_length\", truncation=True, max_length=max_length, return_tensors=\"pt\")\n",
        "        train_labels = train_target_encodings[\"input_ids\"]\n",
        "        train_labels[train_labels == tokenizer.pad_token_id] = -100\n",
        "\n",
        "        train_dataset = Dataset.from_dict({\n",
        "            'input_ids': train_input_encodings['input_ids'],\n",
        "            'attention_mask': train_input_encodings['attention_mask'],\n",
        "            'labels': train_labels\n",
        "        })\n",
        "\n",
        "        # Tokenize validation\n",
        "        val_input_encodings = tokenizer(val_inputs, padding=\"max_length\", truncation=True, max_length=max_length, return_tensors=\"pt\")\n",
        "        val_target_encodings = tokenizer(val_targets, padding=\"max_length\", truncation=True, max_length=max_length, return_tensors=\"pt\")\n",
        "        val_labels = val_target_encodings[\"input_ids\"]\n",
        "        val_labels[val_labels == tokenizer.pad_token_id] = -100\n",
        "\n",
        "        val_dataset = Dataset.from_dict({\n",
        "            'input_ids': val_input_encodings['input_ids'],\n",
        "            'attention_mask': val_input_encodings['attention_mask'],\n",
        "            'labels': val_labels\n",
        "        })\n",
        "\n",
        "        model = T5ForConditionalGeneration.from_pretrained(model_name)\n",
        "\n",
        "        training_args = TrainingArguments(\n",
        "            output_dir=f\"./t5-cv-fold{fold_num}\",\n",
        "            per_device_train_batch_size=8,\n",
        "            per_device_eval_batch_size=8,\n",
        "            num_train_epochs=num_train_epochs,\n",
        "            logging_dir=\"./logs\",\n",
        "            save_steps=500,\n",
        "            save_total_limit=1,\n",
        "            # evaluation_strategy=\"epoch\",\n",
        "            # save_strategy=\"epoch\",\n",
        "            # load_best_model_at_end=True,\n",
        "            # metric_for_best_model=\"eval_loss\",\n",
        "            # greater_is_better=False,\n",
        "        )\n",
        "\n",
        "        trainer = Trainer(\n",
        "            model=model,\n",
        "            args=training_args,\n",
        "            train_dataset=train_dataset,\n",
        "            eval_dataset=val_dataset,\n",
        "        )\n",
        "\n",
        "        trainer.train()\n",
        "\n",
        "        # Evaluate on validation set\n",
        "        model.eval()\n",
        "        predictions = []\n",
        "        references = []\n",
        "\n",
        "        for sentence in val_df['Ungrammatical Statement']:\n",
        "            input_text = \"fix: \" + sentence\n",
        "            input_ids = tokenizer.encode(input_text, return_tensors=\"pt\", max_length=max_length, truncation=True)\n",
        "            with torch.no_grad():\n",
        "                outputs = model.generate(input_ids, max_length=max_length, num_beams=4, early_stopping=True)\n",
        "            pred = tokenizer.decode(outputs[0], skip_special_tokens=True).strip()\n",
        "            predictions.append(pred)\n",
        "\n",
        "        references = val_df['Standard English'].str.strip().tolist()\n",
        "\n",
        "        # Calculate BLEU and exact match accuracy\n",
        "        bleu_sum = 0\n",
        "        correct_exact = 0\n",
        "        for pred, ref in zip(predictions, references):\n",
        "            pred_tokens = pred.split()\n",
        "            ref_tokens = ref.split()\n",
        "            bleu = sentence_bleu([ref_tokens], pred_tokens, smoothing_function=smoothie)\n",
        "            bleu_sum += bleu\n",
        "            if pred.lower() == ref.lower():\n",
        "                correct_exact += 1\n",
        "        bleu_score = bleu_sum / len(predictions)\n",
        "        accuracy = correct_exact / len(predictions)\n",
        "\n",
        "        # Precision, Recall, F1 micro (treat exact matches as 1, else 0)\n",
        "        y_true = [1] * len(references)  # all correct labels\n",
        "        y_pred = [1 if p.lower() == r.lower() else 0 for p, r in zip(predictions, references)]\n",
        "\n",
        "        precision, recall, f1, _ = precision_recall_fscore_support(\n",
        "            y_true, y_pred, average='micro'\n",
        "        )\n",
        "\n",
        "        print(f\"Fold {fold_num}: BLEU={bleu_score:.4f}, Accuracy={accuracy:.4f}, \"\n",
        "              f\"Precision={precision:.4f}, Recall={recall:.4f}, F1={f1:.4f}\")\n",
        "\n",
        "        accuracy_scores.append(accuracy)\n",
        "        precision_scores.append(precision)\n",
        "        recall_scores.append(recall)\n",
        "        f1_scores.append(f1)\n",
        "        bleu_scores.append(bleu_score)\n",
        "\n",
        "        fold_num += 1\n",
        "\n",
        "    print(\"\\n=== Cross-validation summary ===\")\n",
        "    report(\"BLEU\", bleu_scores)\n",
        "    report(\"Accuracy\", accuracy_scores)\n",
        "    report(\"Precision\", precision_scores)\n",
        "    report(\"Recall\", recall_scores)\n",
        "    report(\"F1-score\", f1_scores)\n",
        "\n",
        "    # Final training on full dataset\n",
        "    print(\"\\nTraining on full dataset for final model...\")\n",
        "    inputs = [\"fix: \" + text for text in df['Ungrammatical Statement']]\n",
        "    targets = df['Standard English'].tolist()\n",
        "\n",
        "    input_encodings = tokenizer(inputs, padding=\"max_length\", truncation=True, max_length=max_length, return_tensors=\"pt\")\n",
        "    target_encodings = tokenizer(targets, padding=\"max_length\", truncation=True, max_length=max_length, return_tensors=\"pt\")\n",
        "\n",
        "    labels = target_encodings[\"input_ids\"]\n",
        "    labels[labels == tokenizer.pad_token_id] = -100\n",
        "\n",
        "    full_dataset = Dataset.from_dict({\n",
        "        'input_ids': input_encodings['input_ids'],\n",
        "        'attention_mask': input_encodings['attention_mask'],\n",
        "        'labels': labels\n",
        "    })\n",
        "\n",
        "    model = T5ForConditionalGeneration.from_pretrained(model_name)\n",
        "    training_args = TrainingArguments(\n",
        "        output_dir=model_dir,\n",
        "        per_device_train_batch_size=8,\n",
        "        per_device_eval_batch_size=8,\n",
        "        num_train_epochs=num_train_epochs,\n",
        "        logging_dir=\"./logs\",\n",
        "        save_steps=500,\n",
        "        save_total_limit=2,\n",
        "    )\n",
        "    trainer = Trainer(\n",
        "        model=model,\n",
        "        args=training_args,\n",
        "        train_dataset=full_dataset,\n",
        "        eval_dataset=full_dataset,\n",
        "    )\n",
        "\n",
        "    trainer.train()\n",
        "    trainer.save_model(model_dir)\n",
        "\n",
        "# Grammar correction function using final trained or loaded model\n",
        "def correct_grammar(sentence):\n",
        "    input_text = \"fix: \" + sentence\n",
        "    input_ids = tokenizer.encode(input_text, return_tensors=\"pt\", max_length=max_length, truncation=True)\n",
        "    output_ids = model.generate(input_ids, max_length=max_length, num_beams=4, early_stopping=True)\n",
        "    return tokenizer.decode(output_ids[0], skip_special_tokens=True)\n",
        "\n",
        "# User input for correction\n",
        "user_sentence = input(\"\\nEnter a sentence to correct grammar:\\n\")\n",
        "corrected_sentence = correct_grammar(user_sentence)\n",
        "print(\"Corrected:\", corrected_sentence)\n"
      ],
      "metadata": {
        "colab": {
          "base_uri": "https://localhost:8080/",
          "height": 1000
        },
        "id": "DCRp2yKr01pn",
        "outputId": "1bc165e9-8f58-4fc9-ef03-385daa232592"
      },
      "execution_count": null,
      "outputs": [
        {
          "output_type": "stream",
          "name": "stdout",
          "text": [
            "No saved model found. Starting training with cross-validation...\n",
            "\n",
            "=== Fold 1 ===\n"
          ]
        },
        {
          "output_type": "stream",
          "name": "stderr",
          "text": [
            "Using the `WANDB_DISABLED` environment variable is deprecated and will be removed in v5. Use the --report_to flag to control the integrations used for logging result (for instance --report_to none).\n"
          ]
        },
        {
          "output_type": "display_data",
          "data": {
            "text/plain": [
              "<IPython.core.display.HTML object>"
            ],
            "text/html": [
              "\n",
              "    <div>\n",
              "      \n",
              "      <progress value='606' max='606' style='width:300px; height:20px; vertical-align: middle;'></progress>\n",
              "      [606/606 44:12, Epoch 3/3]\n",
              "    </div>\n",
              "    <table border=\"1\" class=\"dataframe\">\n",
              "  <thead>\n",
              " <tr style=\"text-align: left;\">\n",
              "      <th>Step</th>\n",
              "      <th>Training Loss</th>\n",
              "    </tr>\n",
              "  </thead>\n",
              "  <tbody>\n",
              "    <tr>\n",
              "      <td>500</td>\n",
              "      <td>0.633000</td>\n",
              "    </tr>\n",
              "  </tbody>\n",
              "</table><p>"
            ]
          },
          "metadata": {}
        },
        {
          "output_type": "stream",
          "name": "stdout",
          "text": [
            "Fold 1: BLEU=0.6675, Accuracy=0.3540, Precision=0.3540, Recall=0.3540, F1=0.3540\n",
            "\n",
            "=== Fold 2 ===\n"
          ]
        },
        {
          "output_type": "stream",
          "name": "stderr",
          "text": [
            "Using the `WANDB_DISABLED` environment variable is deprecated and will be removed in v5. Use the --report_to flag to control the integrations used for logging result (for instance --report_to none).\n"
          ]
        },
        {
          "output_type": "display_data",
          "data": {
            "text/plain": [
              "<IPython.core.display.HTML object>"
            ],
            "text/html": [
              "\n",
              "    <div>\n",
              "      \n",
              "      <progress value='606' max='606' style='width:300px; height:20px; vertical-align: middle;'></progress>\n",
              "      [606/606 44:27, Epoch 3/3]\n",
              "    </div>\n",
              "    <table border=\"1\" class=\"dataframe\">\n",
              "  <thead>\n",
              " <tr style=\"text-align: left;\">\n",
              "      <th>Step</th>\n",
              "      <th>Training Loss</th>\n",
              "    </tr>\n",
              "  </thead>\n",
              "  <tbody>\n",
              "    <tr>\n",
              "      <td>500</td>\n",
              "      <td>0.597300</td>\n",
              "    </tr>\n",
              "  </tbody>\n",
              "</table><p>"
            ]
          },
          "metadata": {}
        },
        {
          "output_type": "stream",
          "name": "stdout",
          "text": [
            "Fold 2: BLEU=0.6658, Accuracy=0.3069, Precision=0.3069, Recall=0.3069, F1=0.3069\n",
            "\n",
            "=== Fold 3 ===\n"
          ]
        },
        {
          "output_type": "stream",
          "name": "stderr",
          "text": [
            "Using the `WANDB_DISABLED` environment variable is deprecated and will be removed in v5. Use the --report_to flag to control the integrations used for logging result (for instance --report_to none).\n"
          ]
        },
        {
          "output_type": "display_data",
          "data": {
            "text/plain": [
              "<IPython.core.display.HTML object>"
            ],
            "text/html": [
              "\n",
              "    <div>\n",
              "      \n",
              "      <progress value='606' max='606' style='width:300px; height:20px; vertical-align: middle;'></progress>\n",
              "      [606/606 44:01, Epoch 3/3]\n",
              "    </div>\n",
              "    <table border=\"1\" class=\"dataframe\">\n",
              "  <thead>\n",
              " <tr style=\"text-align: left;\">\n",
              "      <th>Step</th>\n",
              "      <th>Training Loss</th>\n",
              "    </tr>\n",
              "  </thead>\n",
              "  <tbody>\n",
              "    <tr>\n",
              "      <td>500</td>\n",
              "      <td>0.617700</td>\n",
              "    </tr>\n",
              "  </tbody>\n",
              "</table><p>"
            ]
          },
          "metadata": {}
        },
        {
          "output_type": "stream",
          "name": "stdout",
          "text": [
            "Fold 3: BLEU=0.6688, Accuracy=0.3589, Precision=0.3589, Recall=0.3589, F1=0.3589\n",
            "\n",
            "=== Fold 4 ===\n"
          ]
        },
        {
          "output_type": "stream",
          "name": "stderr",
          "text": [
            "Using the `WANDB_DISABLED` environment variable is deprecated and will be removed in v5. Use the --report_to flag to control the integrations used for logging result (for instance --report_to none).\n"
          ]
        },
        {
          "output_type": "display_data",
          "data": {
            "text/plain": [
              "<IPython.core.display.HTML object>"
            ],
            "text/html": [
              "\n",
              "    <div>\n",
              "      \n",
              "      <progress value='606' max='606' style='width:300px; height:20px; vertical-align: middle;'></progress>\n",
              "      [606/606 43:56, Epoch 3/3]\n",
              "    </div>\n",
              "    <table border=\"1\" class=\"dataframe\">\n",
              "  <thead>\n",
              " <tr style=\"text-align: left;\">\n",
              "      <th>Step</th>\n",
              "      <th>Training Loss</th>\n",
              "    </tr>\n",
              "  </thead>\n",
              "  <tbody>\n",
              "    <tr>\n",
              "      <td>500</td>\n",
              "      <td>0.603100</td>\n",
              "    </tr>\n",
              "  </tbody>\n",
              "</table><p>"
            ]
          },
          "metadata": {}
        },
        {
          "output_type": "stream",
          "name": "stdout",
          "text": [
            "Fold 4: BLEU=0.6783, Accuracy=0.3598, Precision=0.3598, Recall=0.3598, F1=0.3598\n",
            "\n",
            "=== Fold 5 ===\n"
          ]
        },
        {
          "output_type": "stream",
          "name": "stderr",
          "text": [
            "Using the `WANDB_DISABLED` environment variable is deprecated and will be removed in v5. Use the --report_to flag to control the integrations used for logging result (for instance --report_to none).\n"
          ]
        },
        {
          "output_type": "display_data",
          "data": {
            "text/plain": [
              "<IPython.core.display.HTML object>"
            ],
            "text/html": [
              "\n",
              "    <div>\n",
              "      \n",
              "      <progress value='606' max='606' style='width:300px; height:20px; vertical-align: middle;'></progress>\n",
              "      [606/606 44:12, Epoch 3/3]\n",
              "    </div>\n",
              "    <table border=\"1\" class=\"dataframe\">\n",
              "  <thead>\n",
              " <tr style=\"text-align: left;\">\n",
              "      <th>Step</th>\n",
              "      <th>Training Loss</th>\n",
              "    </tr>\n",
              "  </thead>\n",
              "  <tbody>\n",
              "    <tr>\n",
              "      <td>500</td>\n",
              "      <td>0.587700</td>\n",
              "    </tr>\n",
              "  </tbody>\n",
              "</table><p>"
            ]
          },
          "metadata": {}
        },
        {
          "output_type": "stream",
          "name": "stdout",
          "text": [
            "Fold 5: BLEU=0.6624, Accuracy=0.3499, Precision=0.3499, Recall=0.3499, F1=0.3499\n",
            "\n",
            "=== Cross-validation summary ===\n",
            "BLEU: 0.6686 ± 0.0053\n",
            "Accuracy: 0.3459 ± 0.0198\n",
            "Precision: 0.3459 ± 0.0198\n",
            "Recall: 0.3459 ± 0.0198\n",
            "F1-score: 0.3459 ± 0.0198\n",
            "\n",
            "Training on full dataset for final model...\n"
          ]
        },
        {
          "output_type": "stream",
          "name": "stderr",
          "text": [
            "Using the `WANDB_DISABLED` environment variable is deprecated and will be removed in v5. Use the --report_to flag to control the integrations used for logging result (for instance --report_to none).\n"
          ]
        },
        {
          "output_type": "display_data",
          "data": {
            "text/plain": [
              "<IPython.core.display.HTML object>"
            ],
            "text/html": [
              "\n",
              "    <div>\n",
              "      \n",
              "      <progress value='759' max='759' style='width:300px; height:20px; vertical-align: middle;'></progress>\n",
              "      [759/759 54:36, Epoch 3/3]\n",
              "    </div>\n",
              "    <table border=\"1\" class=\"dataframe\">\n",
              "  <thead>\n",
              " <tr style=\"text-align: left;\">\n",
              "      <th>Step</th>\n",
              "      <th>Training Loss</th>\n",
              "    </tr>\n",
              "  </thead>\n",
              "  <tbody>\n",
              "    <tr>\n",
              "      <td>500</td>\n",
              "      <td>0.611800</td>\n",
              "    </tr>\n",
              "  </tbody>\n",
              "</table><p>"
            ]
          },
          "metadata": {}
        },
        {
          "output_type": "stream",
          "name": "stdout",
          "text": [
            "\n",
            "Enter a sentence to correct grammar:\n",
            "she are running late\n",
            "Corrected: she is running late\n"
          ]
        }
      ]
    },
    {
      "cell_type": "code",
      "source": [
        "import matplotlib.pyplot as plt\n",
        "import seaborn as sns\n",
        "import pandas as pd\n",
        "import numpy as np\n",
        "from sklearn.metrics import confusion_matrix, ConfusionMatrixDisplay\n",
        "from wordcloud import WordCloud\n",
        "\n",
        "# === 1. Cross-Validation Metrics Summary (Bar Plot with Error Bars) ===\n",
        "metrics = {\n",
        "    'BLEU': bleu_scores,\n",
        "    'Accuracy': accuracy_scores,\n",
        "    'Precision': precision_scores,\n",
        "    'Recall': recall_scores,\n",
        "    'F1-score': f1_scores\n",
        "}\n",
        "\n",
        "# Fix: Use DataFrame + matplotlib for error bars\n",
        "metric_names = list(metrics.keys())\n",
        "means = [np.mean(metrics[m]) for m in metric_names]\n",
        "stds = [np.std(metrics[m]) for m in metric_names]\n",
        "\n",
        "df_plot = pd.DataFrame({\n",
        "    'Metric': metric_names,\n",
        "    'Mean': means,\n",
        "    'Std': stds\n",
        "})\n",
        "\n",
        "plt.figure(figsize=(10, 6))\n",
        "bar = sns.barplot(data=df_plot, x='Metric', y='Mean', palette='viridis', errorbar=None, legend=False)\n",
        "plt.errorbar(x=range(len(means)), y=means, yerr=stds, fmt='none', c='black', capsize=5)\n",
        "\n",
        "plt.title(\"Cross-Validation Metrics with Standard Deviation\")\n",
        "plt.ylabel(\"Score\")\n",
        "plt.ylim(0, 1)\n",
        "plt.grid(axis='y')\n",
        "plt.show()\n",
        "\n",
        "\n",
        "# === 2. Per-Fold Metric Trends (Line Plot) ===\n",
        "folds = list(range(1, len(bleu_scores) + 1))\n",
        "plt.figure(figsize=(12, 6))\n",
        "for metric, values in metrics.items():\n",
        "    plt.plot(folds, values, label=metric, marker='o')\n",
        "\n",
        "plt.title(\"Model Performance per Fold\")\n",
        "plt.xlabel(\"Fold\")\n",
        "plt.ylabel(\"Score\")\n",
        "plt.xticks(folds)\n",
        "plt.legend()\n",
        "plt.grid(True)\n",
        "plt.show()\n",
        "\n",
        "# === 3. BLEU vs Accuracy Scatter Plot ===\n",
        "plt.figure(figsize=(8, 6))\n",
        "plt.scatter(bleu_scores, accuracy_scores, c='teal', edgecolors='black', s=80)\n",
        "plt.title(\"BLEU vs Accuracy per Fold\")\n",
        "plt.xlabel(\"BLEU Score\")\n",
        "plt.ylabel(\"Accuracy\")\n",
        "plt.grid(True)\n",
        "plt.show()\n",
        "\n",
        "# === 4. Confusion Matrix (Exact Match) ===\n",
        "y_true_bin = [1] * len(y_pred)  # all correct references are labeled 1\n",
        "cm = confusion_matrix(y_true_bin, y_pred)\n",
        "disp = ConfusionMatrixDisplay(confusion_matrix=cm, display_labels=[\"Mismatch\", \"Exact Match\"])\n",
        "disp.plot(cmap=plt.cm.Blues)\n",
        "plt.title(\"Confusion Matrix: Prediction vs Reference\")\n",
        "plt.show()\n",
        "\n",
        "# === 5. Sample Predictions Table (Optional print to CSV or Markdown) ===\n",
        "sample_df = pd.DataFrame({\n",
        "    'Ungrammatical': val_df['Ungrammatical Statement'],\n",
        "    'Reference': references,\n",
        "    'Prediction': predictions\n",
        "})\n",
        "sample_df['Match'] = sample_df['Prediction'].str.lower() == sample_df['Reference'].str.lower()\n",
        "\n",
        "# Display a sample\n",
        "print(sample_df.head(10).to_markdown(index=False))\n",
        "\n",
        "# Optional: Export all predictions\n",
        "sample_df.to_csv(\"sample_predictions.csv\", index=False)\n",
        "\n",
        "# === 6. Word Cloud for Error\n"
      ],
      "metadata": {
        "id": "RuvwxHGaDb8t",
        "outputId": "5c5d3426-b149-42a2-b5fc-663b1823dc47",
        "colab": {
          "base_uri": "https://localhost:8080/",
          "height": 1000
        }
      },
      "execution_count": null,
      "outputs": [
        {
          "output_type": "stream",
          "name": "stderr",
          "text": [
            "<ipython-input-28-867c1ccff244>:29: FutureWarning: \n",
            "\n",
            "Passing `palette` without assigning `hue` is deprecated and will be removed in v0.14.0. Assign the `x` variable to `hue` and set `legend=False` for the same effect.\n",
            "\n",
            "  bar = sns.barplot(data=df_plot, x='Metric', y='Mean', palette='viridis', errorbar=None, legend=False)\n"
          ]
        },
        {
          "output_type": "display_data",
          "data": {
            "text/plain": [
              "<Figure size 1000x600 with 1 Axes>"
            ],
            "image/png": "[encoded data removed]"
          },
          "metadata": {}
        },
        {
          "output_type": "display_data",
          "data": {
            "text/plain": [
              "<Figure size 1200x600 with 1 Axes>"
            ],
            "image/png": "[encoded data removed]"
          },
          "metadata": {}
        },
        {
          "output_type": "display_data",
          "data": {
            "text/plain": [
              "<Figure size 800x600 with 1 Axes>"
            ],
            "image/png": "[encoded data removed]"
          },
          "metadata": {}
        },
        {
          "output_type": "display_data",
          "data": {
            "text/plain": [
              "<Figure size 640x480 with 2 Axes>"
            ],
            "image/png": "[encoded data removed]"
          },
          "metadata": {}
        },
        {
          "output_type": "stream",
          "name": "stdout",
          "text": [
            "| Ungrammatical                                   | Reference                                         | Prediction                                      | Match   |\n",
            "|:------------------------------------------------|:--------------------------------------------------|:------------------------------------------------|:--------|\n",
            "| they was playing soccer last night              | they were playing soccer last night               | they were playing soccer last night             | True    |\n",
            "| she will goes to the party tonight              | she will go to the party tonight                  | she will go to the party tonight                | True    |\n",
            "| the kids plays video games after school         | the kids play video games after school            | the kids play video games after school          | True    |\n",
            "| the computer not working properly               | the computer is not working properly              | the computer is not working properly            | True    |\n",
            "| i has been to paris three times                 | i have been to paris three times                  | i have been to paris three times                | True    |\n",
            "| the cat catch the mouse yesterday               | the cat caught the mouse yesterday                | the cat caught the mouse yesterday              | True    |\n",
            "| she buy a new dress for the party               | she buys a new dress for the party                | she buys a new dress for the party              | True    |\n",
            "| the teacher teach the students in the classroom | the teacher teaches the students in the classroom | the teacher teach the students in the classroom | False   |\n",
            "| the dog was chase the squirrel                  | the dog was chasing the squirrel                  | the dog was chased by the squirrel              | False   |\n",
            "| the manager gives a speech at the meeting       | the manager gave a speech at the meeting          | the manager gives a speech at the meeting       | False   |\n"
          ]
        }
      ]
    },
    {
      "cell_type": "markdown",
      "source": [
        "#BART\n"
      ],
      "metadata": {
        "id": "N6NnWnWm_hDJ"
      }
    },
    {
      "cell_type": "code",
      "source": [
        "import os\n",
        "import numpy as np\n",
        "import pandas as pd\n",
        "from sklearn.model_selection import KFold\n",
        "from sklearn.metrics import precision_recall_fscore_support, accuracy_score\n",
        "from transformers import BartTokenizer, BartForConditionalGeneration, Trainer, TrainingArguments\n",
        "from datasets import Dataset\n",
        "from nltk.translate.bleu_score import sentence_bleu, SmoothingFunction\n",
        "import torch\n",
        "\n",
        "model_name = \"facebook/bart-base\"\n",
        "model_dir = \"./bart-grammar-correction\"\n",
        "k_folds = 5\n",
        "num_train_epochs = 2\n",
        "max_length = 64\n",
        "\n",
        "tokenizer = BartTokenizer.from_pretrained(model_name)\n",
        "\n",
        "def report(name, vals):\n",
        "    mean, std = np.mean(vals), np.std(vals)\n",
        "    print(f\"{name}: {mean:.4f} ± {std:.4f}\")\n",
        "\n",
        "smoothie = SmoothingFunction().method4\n",
        "\n",
        "# Assumes df is already loaded with 'Ungrammatical Statement' and 'Standard English' columns\n",
        "\n",
        "if os.path.exists(model_dir):\n",
        "    print(\"Saved model found. Loading the model...\")\n",
        "    model = BartForConditionalGeneration.from_pretrained(model_dir)\n",
        "\n",
        "else:\n",
        "    print(\"No saved model found. Starting training with cross-validation...\")\n",
        "\n",
        "    accuracy_scores = []\n",
        "    precision_scores = []\n",
        "    recall_scores = []\n",
        "    f1_scores = []\n",
        "    bleu_scores = []\n",
        "\n",
        "    kf = KFold(n_splits=k_folds, shuffle=True, random_state=42)\n",
        "    fold_num = 1\n",
        "\n",
        "    for train_index, val_index in kf.split(df):\n",
        "        print(f\"\\n=== Fold {fold_num} ===\")\n",
        "        train_df = df.iloc[train_index].reset_index(drop=True)\n",
        "        val_df = df.iloc[val_index].reset_index(drop=True)\n",
        "\n",
        "        train_inputs = train_df['Ungrammatical Statement'].tolist()\n",
        "        train_targets = train_df['Standard English'].tolist()\n",
        "\n",
        "        val_inputs = val_df['Ungrammatical Statement'].tolist()\n",
        "        val_targets = val_df['Standard English'].tolist()\n",
        "\n",
        "        # Tokenize training data\n",
        "        train_input_encodings = tokenizer(train_inputs, padding=\"max_length\", truncation=True, max_length=max_length, return_tensors=\"pt\")\n",
        "        train_target_encodings = tokenizer(train_targets, padding=\"max_length\", truncation=True, max_length=max_length, return_tensors=\"pt\")\n",
        "        train_labels = train_target_encodings[\"input_ids\"]\n",
        "        train_labels[train_labels == tokenizer.pad_token_id] = -100\n",
        "\n",
        "        train_dataset = Dataset.from_dict({\n",
        "            'input_ids': train_input_encodings['input_ids'],\n",
        "            'attention_mask': train_input_encodings['attention_mask'],\n",
        "            'labels': train_labels\n",
        "        })\n",
        "\n",
        "        val_input_encodings = tokenizer(val_inputs, padding=\"max_length\", truncation=True, max_length=max_length, return_tensors=\"pt\")\n",
        "        val_target_encodings = tokenizer(val_targets, padding=\"max_length\", truncation=True, max_length=max_length, return_tensors=\"pt\")\n",
        "        val_labels = val_target_encodings[\"input_ids\"]\n",
        "        val_labels[val_labels == tokenizer.pad_token_id] = -100\n",
        "\n",
        "        val_dataset = Dataset.from_dict({\n",
        "            'input_ids': val_input_encodings['input_ids'],\n",
        "            'attention_mask': val_input_encodings['attention_mask'],\n",
        "            'labels': val_labels\n",
        "        })\n",
        "\n",
        "        model = BartForConditionalGeneration.from_pretrained(model_name)\n",
        "\n",
        "        training_args = TrainingArguments(\n",
        "            output_dir=f\"./bart-cv-fold{fold_num}\",\n",
        "            per_device_train_batch_size=8,\n",
        "            per_device_eval_batch_size=8,\n",
        "            num_train_epochs=num_train_epochs,\n",
        "            logging_dir=\"./logs\",\n",
        "            save_steps=500,\n",
        "            save_total_limit=1,\n",
        "            report_to=\"none\"\n",
        "        )\n",
        "\n",
        "        trainer = Trainer(\n",
        "            model=model,\n",
        "            args=training_args,\n",
        "            train_dataset=train_dataset,\n",
        "            eval_dataset=val_dataset,\n",
        "        )\n",
        "\n",
        "        trainer.train()\n",
        "\n",
        "        # Evaluate\n",
        "        model.eval()\n",
        "        predictions = []\n",
        "        references = []\n",
        "\n",
        "        for sentence in val_inputs:\n",
        "            input_ids = tokenizer.encode(sentence, return_tensors=\"pt\", max_length=max_length, truncation=True)\n",
        "            with torch.no_grad():\n",
        "                outputs = model.generate(input_ids, max_length=max_length, num_beams=4, early_stopping=True)\n",
        "            pred = tokenizer.decode(outputs[0], skip_special_tokens=True).strip()\n",
        "            predictions.append(pred)\n",
        "\n",
        "        references = [r.strip() for r in val_targets]\n",
        "\n",
        "        bleu_sum = 0\n",
        "        correct_exact = 0\n",
        "        for pred, ref in zip(predictions, references):\n",
        "            pred_tokens = pred.split()\n",
        "            ref_tokens = ref.split()\n",
        "            bleu = sentence_bleu([ref_tokens], pred_tokens, smoothing_function=smoothie)\n",
        "            bleu_sum += bleu\n",
        "            if pred.lower() == ref.lower():\n",
        "                correct_exact += 1\n",
        "        bleu_score = bleu_sum / len(predictions)\n",
        "        accuracy = correct_exact / len(predictions)\n",
        "\n",
        "        y_true = [1] * len(references)\n",
        "        y_pred = [1 if p.lower() == r.lower() else 0 for p, r in zip(predictions, references)]\n",
        "\n",
        "        precision, recall, f1, _ = precision_recall_fscore_support(y_true, y_pred, average='micro')\n",
        "\n",
        "        print(f\"Fold {fold_num}: BLEU={bleu_score:.4f}, Accuracy={accuracy:.4f}, \"\n",
        "              f\"Precision={precision:.4f}, Recall={recall:.4f}, F1={f1:.4f}\")\n",
        "\n",
        "        accuracy_scores.append(accuracy)\n",
        "        precision_scores.append(precision)\n",
        "        recall_scores.append(recall)\n",
        "        f1_scores.append(f1)\n",
        "        bleu_scores.append(bleu_score)\n",
        "\n",
        "        fold_num += 1\n",
        "\n",
        "    print(\"\\n=== Cross-validation summary ===\")\n",
        "    report(\"BLEU\", bleu_scores)\n",
        "    report(\"Accuracy\", accuracy_scores)\n",
        "    report(\"Precision\", precision_scores)\n",
        "    report(\"Recall\", recall_scores)\n",
        "    report(\"F1-score\", f1_scores)\n",
        "\n",
        "    # Train final model\n",
        "    print(\"\\nTraining on full dataset for final model...\")\n",
        "    inputs = df['Ungrammatical Statement'].tolist()\n",
        "    targets = df['Standard English'].tolist()\n",
        "\n",
        "    input_encodings = tokenizer(inputs, padding=\"max_length\", truncation=True, max_length=max_length, return_tensors=\"pt\")\n",
        "    target_encodings = tokenizer(targets, padding=\"max_length\", truncation=True, max_length=max_length, return_tensors=\"pt\")\n",
        "\n",
        "    labels = target_encodings[\"input_ids\"]\n",
        "    labels[labels == tokenizer.pad_token_id] = -100\n",
        "\n",
        "    full_dataset = Dataset.from_dict({\n",
        "        'input_ids': input_encodings['input_ids'],\n",
        "        'attention_mask': input_encodings['attention_mask'],\n",
        "        'labels': labels\n",
        "    })\n",
        "\n",
        "    model = BartForConditionalGeneration.from_pretrained(model_name)\n",
        "    training_args = TrainingArguments(\n",
        "        output_dir=model_dir,\n",
        "        per_device_train_batch_size=8,\n",
        "        per_device_eval_batch_size=8,\n",
        "        num_train_epochs=num_train_epochs,\n",
        "        logging_dir=\"./logs\",\n",
        "        save_steps=500,\n",
        "        save_total_limit=2,\n",
        "    )\n",
        "    trainer = Trainer(\n",
        "        model=model,\n",
        "        args=training_args,\n",
        "        train_dataset=full_dataset,\n",
        "        eval_dataset=full_dataset,\n",
        "    )\n",
        "\n",
        "    trainer.train()\n",
        "    trainer.save_model(model_dir)\n",
        "\n",
        "# Grammar correction function\n",
        "def correct_grammar(sentence):\n",
        "    input_ids = tokenizer.encode(sentence, return_tensors=\"pt\", max_length=max_length, truncation=True)\n",
        "    output_ids = model.generate(input_ids, max_length=max_length, num_beams=4, early_stopping=True)\n",
        "    return tokenizer.decode(output_ids[0], skip_special_tokens=True)\n",
        "\n",
        "# User interaction\n",
        "user_sentence = input(\"\\nEnter a sentence to correct grammar:\\n\")\n",
        "corrected_sentence = correct_grammar(user_sentence)\n",
        "print(\"Corrected:\", corrected_sentence)"
      ],
      "metadata": {
        "colab": {
          "base_uri": "https://localhost:8080/",
          "height": 1000
        },
        "id": "LfdtYEsEUZCy",
        "outputId": "5c4ddea2-9027-4976-c8b5-badcb419a538"
      },
      "execution_count": null,
      "outputs": [
        {
          "output_type": "stream",
          "name": "stdout",
          "text": [
            "No saved model found. Starting training with cross-validation...\n",
            "\n",
            "=== Fold 1 ===\n"
          ]
        },
        {
          "output_type": "display_data",
          "data": {
            "text/plain": [
              "<IPython.core.display.HTML object>"
            ],
            "text/html": [
              "\n",
              "    <div>\n",
              "      \n",
              "      <progress value='404' max='404' style='width:300px; height:20px; vertical-align: middle;'></progress>\n",
              "      [404/404 1:05:27, Epoch 2/2]\n",
              "    </div>\n",
              "    <table border=\"1\" class=\"dataframe\">\n",
              "  <thead>\n",
              " <tr style=\"text-align: left;\">\n",
              "      <th>Step</th>\n",
              "      <th>Training Loss</th>\n",
              "    </tr>\n",
              "  </thead>\n",
              "  <tbody>\n",
              "  </tbody>\n",
              "</table><p>"
            ]
          },
          "metadata": {}
        },
        {
          "output_type": "stream",
          "name": "stderr",
          "text": [
            "/usr/local/lib/python3.11/dist-packages/transformers/modeling_utils.py:3339: UserWarning: Moving the following attributes in the config to the generation config: {'early_stopping': True, 'num_beams': 4, 'no_repeat_ngram_size': 3, 'forced_bos_token_id': 0}. You are seeing this warning because you've set generation parameters in the model config, as opposed to in the generation config.\n",
            "  warnings.warn(\n"
          ]
        },
        {
          "output_type": "stream",
          "name": "stdout",
          "text": [
            "Fold 1: BLEU=0.7981, Accuracy=0.5767, Precision=0.5767, Recall=0.5767, F1=0.5767\n",
            "\n",
            "=== Fold 2 ===\n"
          ]
        },
        {
          "output_type": "display_data",
          "data": {
            "text/plain": [
              "<IPython.core.display.HTML object>"
            ],
            "text/html": [
              "\n",
              "    <div>\n",
              "      \n",
              "      <progress value='404' max='404' style='width:300px; height:20px; vertical-align: middle;'></progress>\n",
              "      [404/404 1:06:09, Epoch 2/2]\n",
              "    </div>\n",
              "    <table border=\"1\" class=\"dataframe\">\n",
              "  <thead>\n",
              " <tr style=\"text-align: left;\">\n",
              "      <th>Step</th>\n",
              "      <th>Training Loss</th>\n",
              "    </tr>\n",
              "  </thead>\n",
              "  <tbody>\n",
              "  </tbody>\n",
              "</table><p>"
            ]
          },
          "metadata": {}
        },
        {
          "output_type": "stream",
          "name": "stderr",
          "text": [
            "/usr/local/lib/python3.11/dist-packages/transformers/modeling_utils.py:3339: UserWarning: Moving the following attributes in the config to the generation config: {'early_stopping': True, 'num_beams': 4, 'no_repeat_ngram_size': 3, 'forced_bos_token_id': 0}. You are seeing this warning because you've set generation parameters in the model config, as opposed to in the generation config.\n",
            "  warnings.warn(\n"
          ]
        },
        {
          "output_type": "stream",
          "name": "stdout",
          "text": [
            "Fold 2: BLEU=0.7686, Accuracy=0.5074, Precision=0.5074, Recall=0.5074, F1=0.5074\n",
            "\n",
            "=== Fold 3 ===\n"
          ]
        },
        {
          "output_type": "display_data",
          "data": {
            "text/plain": [
              "<IPython.core.display.HTML object>"
            ],
            "text/html": [
              "\n",
              "    <div>\n",
              "      \n",
              "      <progress value='404' max='404' style='width:300px; height:20px; vertical-align: middle;'></progress>\n",
              "      [404/404 1:06:02, Epoch 2/2]\n",
              "    </div>\n",
              "    <table border=\"1\" class=\"dataframe\">\n",
              "  <thead>\n",
              " <tr style=\"text-align: left;\">\n",
              "      <th>Step</th>\n",
              "      <th>Training Loss</th>\n",
              "    </tr>\n",
              "  </thead>\n",
              "  <tbody>\n",
              "  </tbody>\n",
              "</table><p>"
            ]
          },
          "metadata": {}
        },
        {
          "output_type": "stream",
          "name": "stderr",
          "text": [
            "/usr/local/lib/python3.11/dist-packages/transformers/modeling_utils.py:3339: UserWarning: Moving the following attributes in the config to the generation config: {'early_stopping': True, 'num_beams': 4, 'no_repeat_ngram_size': 3, 'forced_bos_token_id': 0}. You are seeing this warning because you've set generation parameters in the model config, as opposed to in the generation config.\n",
            "  warnings.warn(\n"
          ]
        },
        {
          "output_type": "stream",
          "name": "stdout",
          "text": [
            "Fold 3: BLEU=0.7803, Accuracy=0.5569, Precision=0.5569, Recall=0.5569, F1=0.5569\n",
            "\n",
            "=== Fold 4 ===\n"
          ]
        },
        {
          "output_type": "display_data",
          "data": {
            "text/plain": [
              "<IPython.core.display.HTML object>"
            ],
            "text/html": [
              "\n",
              "    <div>\n",
              "      \n",
              "      <progress value='404' max='404' style='width:300px; height:20px; vertical-align: middle;'></progress>\n",
              "      [404/404 1:06:17, Epoch 2/2]\n",
              "    </div>\n",
              "    <table border=\"1\" class=\"dataframe\">\n",
              "  <thead>\n",
              " <tr style=\"text-align: left;\">\n",
              "      <th>Step</th>\n",
              "      <th>Training Loss</th>\n",
              "    </tr>\n",
              "  </thead>\n",
              "  <tbody>\n",
              "  </tbody>\n",
              "</table><p>"
            ]
          },
          "metadata": {}
        },
        {
          "output_type": "stream",
          "name": "stderr",
          "text": [
            "/usr/local/lib/python3.11/dist-packages/transformers/modeling_utils.py:3339: UserWarning: Moving the following attributes in the config to the generation config: {'early_stopping': True, 'num_beams': 4, 'no_repeat_ngram_size': 3, 'forced_bos_token_id': 0}. You are seeing this warning because you've set generation parameters in the model config, as opposed to in the generation config.\n",
            "  warnings.warn(\n"
          ]
        },
        {
          "output_type": "stream",
          "name": "stdout",
          "text": [
            "Fold 4: BLEU=0.7713, Accuracy=0.5310, Precision=0.5310, Recall=0.5310, F1=0.5310\n",
            "\n",
            "=== Fold 5 ===\n"
          ]
        },
        {
          "output_type": "display_data",
          "data": {
            "text/plain": [
              "<IPython.core.display.HTML object>"
            ],
            "text/html": [
              "\n",
              "    <div>\n",
              "      \n",
              "      <progress value='404' max='404' style='width:300px; height:20px; vertical-align: middle;'></progress>\n",
              "      [404/404 1:04:25, Epoch 2/2]\n",
              "    </div>\n",
              "    <table border=\"1\" class=\"dataframe\">\n",
              "  <thead>\n",
              " <tr style=\"text-align: left;\">\n",
              "      <th>Step</th>\n",
              "      <th>Training Loss</th>\n",
              "    </tr>\n",
              "  </thead>\n",
              "  <tbody>\n",
              "  </tbody>\n",
              "</table><p>"
            ]
          },
          "metadata": {}
        },
        {
          "output_type": "stream",
          "name": "stderr",
          "text": [
            "/usr/local/lib/python3.11/dist-packages/transformers/modeling_utils.py:3339: UserWarning: Moving the following attributes in the config to the generation config: {'early_stopping': True, 'num_beams': 4, 'no_repeat_ngram_size': 3, 'forced_bos_token_id': 0}. You are seeing this warning because you've set generation parameters in the model config, as opposed to in the generation config.\n",
            "  warnings.warn(\n"
          ]
        },
        {
          "output_type": "stream",
          "name": "stdout",
          "text": [
            "Fold 5: BLEU=0.7760, Accuracy=0.5558, Precision=0.5558, Recall=0.5558, F1=0.5558\n",
            "\n",
            "=== Cross-validation summary ===\n",
            "BLEU: 0.7789 ± 0.0104\n",
            "Accuracy: 0.5456 ± 0.0240\n",
            "Precision: 0.5456 ± 0.0240\n",
            "Recall: 0.5456 ± 0.0240\n",
            "F1-score: 0.5456 ± 0.0240\n",
            "\n",
            "Training on full dataset for final model...\n"
          ]
        },
        {
          "output_type": "display_data",
          "data": {
            "text/plain": [
              "<IPython.core.display.Javascript object>"
            ],
            "application/javascript": [
              "\n",
              "        window._wandbApiKey = new Promise((resolve, reject) => {\n",
              "            function loadScript(url) {\n",
              "            return new Promise(function(resolve, reject) {\n",
              "                let newScript = document.createElement(\"script\");\n",
              "                newScript.onerror = reject;\n",
              "                newScript.onload = resolve;\n",
              "                document.body.appendChild(newScript);\n",
              "                newScript.src = url;\n",
              "            });\n",
              "            }\n",
              "            loadScript(\"https://cdn.jsdelivr.net/npm/postmate/build/postmate.min.js\").then(() => {\n",
              "            const iframe = document.createElement('iframe')\n",
              "            iframe.style.cssText = \"width:0;height:0;border:none\"\n",
              "            document.body.appendChild(iframe)\n",
              "            const handshake = new Postmate({\n",
              "                container: iframe,\n",
              "                url: 'https://wandb.ai/authorize'\n",
              "            });\n",
              "            const timeout = setTimeout(() => reject(\"Couldn't auto authenticate\"), 5000)\n",
              "            handshake.then(function(child) {\n",
              "                child.on('authorize', data => {\n",
              "                    clearTimeout(timeout)\n",
              "                    resolve(data)\n",
              "                });\n",
              "            });\n",
              "            })\n",
              "        });\n",
              "    "
            ]
          },
          "metadata": {}
        },
        {
          "output_type": "stream",
          "name": "stderr",
          "text": [
            "\u001b[34m\u001b[1mwandb\u001b[0m: Logging into wandb.ai. (Learn how to deploy a W&B server locally: https://wandb.me/wandb-server)\n",
            "\u001b[34m\u001b[1mwandb\u001b[0m: You can find your API key in your browser here: https://wandb.ai/authorize?ref=models\n",
            "wandb: Paste an API key from your profile and hit enter:"
          ]
        },
        {
          "name": "stdout",
          "output_type": "stream",
          "text": [
            " ··········\n"
          ]
        },
        {
          "output_type": "stream",
          "name": "stderr",
          "text": [
            "\u001b[34m\u001b[1mwandb\u001b[0m: \u001b[33mWARNING\u001b[0m If you're specifying your api key in code, ensure this code is not shared publicly.\n",
            "\u001b[34m\u001b[1mwandb\u001b[0m: \u001b[33mWARNING\u001b[0m Consider setting the WANDB_API_KEY environment variable, or running `wandb login` from the command line.\n",
            "\u001b[34m\u001b[1mwandb\u001b[0m: No netrc file found, creating one.\n",
            "\u001b[34m\u001b[1mwandb\u001b[0m: Appending key for api.wandb.ai to your netrc file: /root/.netrc\n",
            "\u001b[34m\u001b[1mwandb\u001b[0m: Currently logged in as: \u001b[33mmariam2206043\u001b[0m (\u001b[33mmariam2206043-misr-international-university\u001b[0m) to \u001b[32mhttps://api.wandb.ai\u001b[0m. Use \u001b[1m`wandb login --relogin`\u001b[0m to force relogin\n"
          ]
        },
        {
          "output_type": "display_data",
          "data": {
            "text/plain": [
              "<IPython.core.display.HTML object>"
            ],
            "text/html": [
              "Tracking run with wandb version 0.19.11"
            ]
          },
          "metadata": {}
        },
        {
          "output_type": "display_data",
          "data": {
            "text/plain": [
              "<IPython.core.display.HTML object>"
            ],
            "text/html": [
              "Run data is saved locally in <code>/content/wandb/run-20250525_181231-v094hjjy</code>"
            ]
          },
          "metadata": {}
        },
        {
          "output_type": "display_data",
          "data": {
            "text/plain": [
              "<IPython.core.display.HTML object>"
            ],
            "text/html": [
              "Syncing run <strong><a href='https://wandb.ai/mariam2206043-misr-international-university/huggingface/runs/v094hjjy' target=\"_blank\">./bart-grammar-correction</a></strong> to <a href='https://wandb.ai/mariam2206043-misr-international-university/huggingface' target=\"_blank\">Weights & Biases</a> (<a href='https://wandb.me/developer-guide' target=\"_blank\">docs</a>)<br>"
            ]
          },
          "metadata": {}
        },
        {
          "output_type": "display_data",
          "data": {
            "text/plain": [
              "<IPython.core.display.HTML object>"
            ],
            "text/html": [
              " View project at <a href='https://wandb.ai/mariam2206043-misr-international-university/huggingface' target=\"_blank\">https://wandb.ai/mariam2206043-misr-international-university/huggingface</a>"
            ]
          },
          "metadata": {}
        },
        {
          "output_type": "display_data",
          "data": {
            "text/plain": [
              "<IPython.core.display.HTML object>"
            ],
            "text/html": [
              " View run at <a href='https://wandb.ai/mariam2206043-misr-international-university/huggingface/runs/v094hjjy' target=\"_blank\">https://wandb.ai/mariam2206043-misr-international-university/huggingface/runs/v094hjjy</a>"
            ]
          },
          "metadata": {}
        },
        {
          "output_type": "display_data",
          "data": {
            "text/plain": [
              "<IPython.core.display.HTML object>"
            ],
            "text/html": [
              "\n",
              "    <div>\n",
              "      \n",
              "      <progress value='506' max='506' style='width:300px; height:20px; vertical-align: middle;'></progress>\n",
              "      [506/506 1:23:58, Epoch 2/2]\n",
              "    </div>\n",
              "    <table border=\"1\" class=\"dataframe\">\n",
              "  <thead>\n",
              " <tr style=\"text-align: left;\">\n",
              "      <th>Step</th>\n",
              "      <th>Training Loss</th>\n",
              "    </tr>\n",
              "  </thead>\n",
              "  <tbody>\n",
              "    <tr>\n",
              "      <td>500</td>\n",
              "      <td>0.382600</td>\n",
              "    </tr>\n",
              "  </tbody>\n",
              "</table><p>"
            ]
          },
          "metadata": {}
        },
        {
          "output_type": "stream",
          "name": "stderr",
          "text": [
            "/usr/local/lib/python3.11/dist-packages/transformers/modeling_utils.py:3339: UserWarning: Moving the following attributes in the config to the generation config: {'early_stopping': True, 'num_beams': 4, 'no_repeat_ngram_size': 3, 'forced_bos_token_id': 0}. You are seeing this warning because you've set generation parameters in the model config, as opposed to in the generation config.\n",
            "  warnings.warn(\n"
          ]
        },
        {
          "output_type": "stream",
          "name": "stdout",
          "text": [
            "\n",
            "Enter a sentence to correct grammar:\n",
            "she are running late\n",
            "Corrected: she is running late\n"
          ]
        }
      ]
    },
    {
      "cell_type": "code",
      "source": [
        "import os\n",
        "import pandas as pd\n",
        "from transformers import BartTokenizer, BartForConditionalGeneration, Trainer, TrainingArguments\n",
        "from datasets import Dataset\n",
        "import torch\n",
        "from nltk.translate.bleu_score import sentence_bleu, SmoothingFunction\n",
        "\n",
        "# Set model and save directory\n",
        "model_name = \"facebook/bart-base\"\n",
        "model_dir = \"./bart-grammar-correction-without-CV\"\n",
        "\n",
        "# Use GPU if available\n",
        "device = torch.device(\"cuda\" if torch.cuda.is_available() else \"cpu\")\n",
        "\n",
        "# Load tokenizer\n",
        "tokenizer = BartTokenizer.from_pretrained(model_name)\n",
        "\n",
        "# Load or train model\n",
        "if os.path.exists(model_dir):\n",
        "    print(\"Saved model found. Loading the model...\")\n",
        "    model = BartForConditionalGeneration.from_pretrained(model_dir)\n",
        "else:\n",
        "    print(\"No saved model found. Training model from scratch...\")\n",
        "    model = BartForConditionalGeneration.from_pretrained(model_name)\n",
        "\n",
        "    # Prepare inputs and targets\n",
        "    inputs = df['Ungrammatical Statement'].tolist()\n",
        "    targets = df['Standard English'].tolist()\n",
        "\n",
        "    # Tokenize input and target\n",
        "    input_encodings = tokenizer(inputs, padding=\"max_length\", truncation=True, max_length=64, return_tensors=\"pt\")\n",
        "    target_encodings = tokenizer(targets, padding=\"max_length\", truncation=True, max_length=64, return_tensors=\"pt\")\n",
        "\n",
        "    labels = target_encodings[\"input_ids\"]\n",
        "    labels[labels == tokenizer.pad_token_id] = -100  # ignore padding in loss\n",
        "\n",
        "    dataset = Dataset.from_dict({\n",
        "        'input_ids': input_encodings['input_ids'],\n",
        "        'attention_mask': input_encodings['attention_mask'],\n",
        "        'labels': labels\n",
        "    })\n",
        "\n",
        "    # Disable W&B logging\n",
        "    os.environ[\"WANDB_DISABLED\"] = \"true\"\n",
        "\n",
        "    training_args = TrainingArguments(\n",
        "        output_dir=model_dir,\n",
        "        per_device_train_batch_size=8,\n",
        "        per_device_eval_batch_size=8,\n",
        "        num_train_epochs=4,\n",
        "        logging_dir=\"./logs\",\n",
        "        save_steps=500,\n",
        "        save_total_limit=2,\n",
        "        report_to=\"none\"  # replaces deprecated WANDB_DISABLED\n",
        "    )\n",
        "\n",
        "    trainer = Trainer(\n",
        "        model=model,\n",
        "        args=training_args,\n",
        "        train_dataset=dataset,\n",
        "        eval_dataset=dataset\n",
        "    )\n",
        "\n",
        "    trainer.train()\n",
        "    trainer.save_model(model_dir)\n",
        "\n",
        "# Move model to device\n",
        "model.to(device)\n",
        "\n",
        "# Grammar correction function\n",
        "def correct_grammar(sentence):\n",
        "    input_ids = tokenizer.encode(sentence, return_tensors=\"pt\", max_length=64, truncation=True).to(device)\n",
        "    output_ids = model.generate(input_ids, max_length=64, num_beams=4, early_stopping=True)\n",
        "    return tokenizer.decode(output_ids[0], skip_special_tokens=True)\n",
        "\n",
        "# Evaluation\n",
        "print(\"\\nEvaluating model on the dataset...\\n\")\n",
        "\n",
        "smoothie = SmoothingFunction().method4\n",
        "total_bleu = 0\n",
        "correct_count = 0\n",
        "\n",
        "for ungram, ref in zip(df['Ungrammatical Statement'], df['Standard English']):\n",
        "    pred = correct_grammar(ungram).strip()\n",
        "    ref = ref.strip()\n",
        "\n",
        "    # BLEU score\n",
        "    ref_tokens = ref.split()\n",
        "    pred_tokens = pred.split()\n",
        "    bleu = sentence_bleu([ref_tokens], pred_tokens, smoothing_function=smoothie)\n",
        "    total_bleu += bleu\n",
        "\n",
        "    # Exact match accuracy (case-insensitive)\n",
        "    if pred.lower() == ref.lower():\n",
        "        correct_count += 1\n",
        "\n",
        "average_bleu = total_bleu / len(df)\n",
        "accuracy = correct_count / len(df)\n",
        "\n",
        "print(f\"Average BLEU score: {average_bleu:.4f}\")\n",
        "print(f\"Exact Match Accuracy: {accuracy:.2%}\")\n",
        "\n",
        "# --- Test on a new example sentence ---\n",
        "user_sentence = input(\"\\nEnter a sentence to correct grammar:\\n\")\n",
        "corrected_sentence = correct_grammar(user_sentence)\n",
        "print(\"Corrected:\", corrected_sentence)"
      ],
      "metadata": {
        "colab": {
          "base_uri": "https://localhost:8080/",
          "height": 366
        },
        "id": "Aq-fSc17gij-",
        "outputId": "adb10371-187a-478b-cc7b-4c416ce4a1eb"
      },
      "execution_count": 8,
      "outputs": [
        {
          "output_type": "stream",
          "name": "stdout",
          "text": [
            "No saved model found. Training model from scratch...\n"
          ]
        },
        {
          "output_type": "display_data",
          "data": {
            "text/plain": [
              "<IPython.core.display.HTML object>"
            ],
            "text/html": [
              "\n",
              "    <div>\n",
              "      \n",
              "      <progress value='1012' max='1012' style='width:300px; height:20px; vertical-align: middle;'></progress>\n",
              "      [1012/1012 02:07, Epoch 4/4]\n",
              "    </div>\n",
              "    <table border=\"1\" class=\"dataframe\">\n",
              "  <thead>\n",
              " <tr style=\"text-align: left;\">\n",
              "      <th>Step</th>\n",
              "      <th>Training Loss</th>\n",
              "    </tr>\n",
              "  </thead>\n",
              "  <tbody>\n",
              "    <tr>\n",
              "      <td>500</td>\n",
              "      <td>0.375000</td>\n",
              "    </tr>\n",
              "    <tr>\n",
              "      <td>1000</td>\n",
              "      <td>0.099100</td>\n",
              "    </tr>\n",
              "  </tbody>\n",
              "</table><p>"
            ]
          },
          "metadata": {}
        },
        {
          "output_type": "stream",
          "name": "stderr",
          "text": [
            "/usr/local/lib/python3.11/dist-packages/transformers/modeling_utils.py:3339: UserWarning: Moving the following attributes in the config to the generation config: {'early_stopping': True, 'num_beams': 4, 'no_repeat_ngram_size': 3, 'forced_bos_token_id': 0}. You are seeing this warning because you've set generation parameters in the model config, as opposed to in the generation config.\n",
            "  warnings.warn(\n"
          ]
        },
        {
          "output_type": "stream",
          "name": "stdout",
          "text": [
            "\n",
            "Evaluating model on the dataset...\n",
            "\n",
            "Average BLEU score: 0.9388\n",
            "Exact Match Accuracy: 86.72%\n",
            "\n",
            "Enter a sentence to correct grammar:\n",
            "she were run late\n",
            "Corrected: she was running late\n"
          ]
        }
      ]
    },
    {
      "cell_type": "code",
      "source": [
        "import matplotlib.pyplot as plt\n",
        "import seaborn as sns\n",
        "import pandas as pd\n",
        "import numpy as np\n",
        "from sklearn.metrics import confusion_matrix, ConfusionMatrixDisplay\n",
        "from wordcloud import WordCloud\n",
        "\n",
        "# === 1. Cross-Validation Metrics Summary (Bar Plot with Error Bars) ===\n",
        "metrics = {\n",
        "    'BLEU': bleu_scores,\n",
        "    'Accuracy': accuracy_scores,\n",
        "    'Precision': precision_scores,\n",
        "    'Recall': recall_scores,\n",
        "    'F1-score': f1_scores\n",
        "}\n",
        "\n",
        "# Fix: Use DataFrame + matplotlib for error bars\n",
        "metric_names = list(metrics.keys())\n",
        "means = [np.mean(metrics[m]) for m in metric_names]\n",
        "stds = [np.std(metrics[m]) for m in metric_names]\n",
        "\n",
        "df_plot = pd.DataFrame({\n",
        "    'Metric': metric_names,\n",
        "    'Mean': means,\n",
        "    'Std': stds\n",
        "})\n",
        "\n",
        "plt.figure(figsize=(10, 6))\n",
        "bar = sns.barplot(data=df_plot, x='Metric', y='Mean', palette='viridis', errorbar=None, legend=False)\n",
        "plt.errorbar(x=range(len(means)), y=means, yerr=stds, fmt='none', c='black', capsize=5)\n",
        "\n",
        "plt.title(\"Cross-Validation Metrics with Standard Deviation\")\n",
        "plt.ylabel(\"Score\")\n",
        "plt.ylim(0, 1)\n",
        "plt.grid(axis='y')\n",
        "plt.show()\n",
        "\n",
        "\n",
        "# === 2. Per-Fold Metric Trends (Line Plot) ===\n",
        "folds = list(range(1, len(bleu_scores) + 1))\n",
        "plt.figure(figsize=(12, 6))\n",
        "for metric, values in metrics.items():\n",
        "    plt.plot(folds, values, label=metric, marker='o')\n",
        "\n",
        "plt.title(\"Model Performance per Fold\")\n",
        "plt.xlabel(\"Fold\")\n",
        "plt.ylabel(\"Score\")\n",
        "plt.xticks(folds)\n",
        "plt.legend()\n",
        "plt.grid(True)\n",
        "plt.show()\n",
        "\n",
        "# === 3. BLEU vs Accuracy Scatter Plot ===\n",
        "plt.figure(figsize=(8, 6))\n",
        "plt.scatter(bleu_scores, accuracy_scores, c='teal', edgecolors='black', s=80)\n",
        "plt.title(\"BLEU vs Accuracy per Fold\")\n",
        "plt.xlabel(\"BLEU Score\")\n",
        "plt.ylabel(\"Accuracy\")\n",
        "plt.grid(True)\n",
        "plt.show()\n",
        "\n",
        "# === 4. Confusion Matrix (Exact Match) ===\n",
        "y_true_bin = [1] * len(y_pred)  # all correct references are labeled 1\n",
        "cm = confusion_matrix(y_true_bin, y_pred)\n",
        "disp = ConfusionMatrixDisplay(confusion_matrix=cm, display_labels=[\"Mismatch\", \"Exact Match\"])\n",
        "disp.plot(cmap=plt.cm.Blues)\n",
        "plt.title(\"Confusion Matrix: Prediction vs Reference\")\n",
        "plt.show()\n",
        "\n",
        "# === 5. Sample Predictions Table (Optional print to CSV or Markdown) ===\n",
        "sample_df = pd.DataFrame({\n",
        "    'Ungrammatical': val_df['Ungrammatical Statement'],\n",
        "    'Reference': references,\n",
        "    'Prediction': predictions\n",
        "})\n",
        "sample_df['Match'] = sample_df['Prediction'].str.lower() == sample_df['Reference'].str.lower()\n",
        "\n",
        "# Display a sample\n",
        "print(sample_df.head(10).to_markdown(index=False))\n",
        "\n",
        "# Optional: Export all predictions\n",
        "sample_df.to_csv(\"sample_predictions.csv\", index=False)\n",
        "\n",
        "# === 6. Word Cloud for Error\n"
      ],
      "metadata": {
        "id": "4ZWPNUTkAP0r",
        "outputId": "c88e986b-b1ff-4100-b504-0abcec8f7a54",
        "colab": {
          "base_uri": "https://localhost:8080/",
          "height": 1000
        }
      },
      "execution_count": null,
      "outputs": [
        {
          "output_type": "stream",
          "name": "stderr",
          "text": [
            "<ipython-input-6-867c1ccff244>:29: FutureWarning: \n",
            "\n",
            "Passing `palette` without assigning `hue` is deprecated and will be removed in v0.14.0. Assign the `x` variable to `hue` and set `legend=False` for the same effect.\n",
            "\n",
            "  bar = sns.barplot(data=df_plot, x='Metric', y='Mean', palette='viridis', errorbar=None, legend=False)\n"
          ]
        },
        {
          "output_type": "display_data",
          "data": {
            "text/plain": [
              "<Figure size 1000x600 with 1 Axes>"
            ],
            "image/png": "[encoded data removed]"
          },
          "metadata": {}
        },
        {
          "output_type": "display_data",
          "data": {
            "text/plain": [
              "<Figure size 1200x600 with 1 Axes>"
            ],
            "image/png": "[encoded data removed]"
          },
          "metadata": {}
        },
        {
          "output_type": "display_data",
          "data": {
            "text/plain": [
              "<Figure size 800x600 with 1 Axes>"
            ],
            "image/png": "[encoded data removed]"
          },
          "metadata": {}
        },
        {
          "output_type": "display_data",
          "data": {
            "text/plain": [
              "<Figure size 640x480 with 2 Axes>"
            ],
            "image/png": "[encoded data removed]"
          },
          "metadata": {}
        },
        {
          "output_type": "stream",
          "name": "stdout",
          "text": [
            "| Ungrammatical                                   | Reference                                         | Prediction                                        | Match   |\n",
            "|:------------------------------------------------|:--------------------------------------------------|:--------------------------------------------------|:--------|\n",
            "| they was playing soccer last night              | they were playing soccer last night               | they were playing soccer last night               | True    |\n",
            "| she will goes to the party tonight              | she will go to the party tonight                  | she will go to the party tonight                  | True    |\n",
            "| the kids plays video games after school         | the kids play video games after school            | the kids play video games after school            | True    |\n",
            "| the computer not working properly               | the computer is not working properly              | the computer is not working properly              | True    |\n",
            "| i has been to paris three times                 | i have been to paris three times                  | i have been to paris three times                  | True    |\n",
            "| the cat catch the mouse yesterday               | the cat caught the mouse yesterday                | the cat caught the mouse yesterday                | True    |\n",
            "| she buy a new dress for the party               | she buys a new dress for the party                | she buys a new dress for the party                | True    |\n",
            "| the teacher teach the students in the classroom | the teacher teaches the students in the classroom | the teacher teaches the students in the classroom | True    |\n",
            "| the dog was chase the squirrel                  | the dog was chasing the squirrel                  | the dog was chasing the squirrel                  | True    |\n",
            "| the manager gives a speech at the meeting       | the manager gave a speech at the meeting          | the manager gives a speech at the meeting         | False   |\n"
          ]
        }
      ]
    },
    {
      "cell_type": "markdown",
      "source": [
        "# FLAN-T5"
      ],
      "metadata": {
        "id": "RpKxuurpKpJ2"
      }
    },
    {
      "cell_type": "code",
      "source": [
        "import os\n",
        "import numpy as np\n",
        "import pandas as pd\n",
        "import torch\n",
        "from transformers import T5Tokenizer, T5ForConditionalGeneration, Trainer, TrainingArguments\n",
        "from datasets import Dataset\n",
        "from nltk.translate.bleu_score import sentence_bleu, SmoothingFunction\n",
        "\n",
        "# ==== Configuration ====\n",
        "model_name = \"google/flan-t5-base\"\n",
        "model_dir = \"./flan-t5-grammar-correction-old2\"\n",
        "max_length = 64\n",
        "num_train_epochs = 4\n",
        "device = torch.device(\"cuda\" if torch.cuda.is_available() else \"cpu\")\n",
        "\n",
        "\n",
        "# ==== Prepare tokenizer & smoothing function ====\n",
        "tokenizer = T5Tokenizer.from_pretrained(model_name)\n",
        "smoothie = SmoothingFunction().method4\n",
        "\n",
        "# ==== Load or train model ====\n",
        "if os.path.exists(model_dir):\n",
        "    print(\"Saved model found. Loading the model...\")\n",
        "    model = T5ForConditionalGeneration.from_pretrained(model_dir).to(device)\n",
        "else:\n",
        "    print(\"No saved model found. Training model from scratch...\")\n",
        "    model = T5ForConditionalGeneration.from_pretrained(model_name).to(device)\n",
        "\n",
        "    # Prepare input/target pairs\n",
        "    inputs  = [\"fix: \" + s for s in df['Ungrammatical Statement']]\n",
        "    targets = df['Standard English'].tolist()\n",
        "\n",
        "    # Tokenize\n",
        "    enc_in  = tokenizer(inputs,  padding=\"max_length\", truncation=True, max_length=max_length, return_tensors=\"pt\")\n",
        "    enc_out = tokenizer(targets, padding=\"max_length\", truncation=True, max_length=max_length, return_tensors=\"pt\")\n",
        "\n",
        "    labels = enc_out[\"input_ids\"]\n",
        "    labels[labels == tokenizer.pad_token_id] = -100  # ignore padding in loss\n",
        "\n",
        "    dataset = Dataset.from_dict({\n",
        "        \"input_ids\":     enc_in[\"input_ids\"],\n",
        "        \"attention_mask\":enc_in[\"attention_mask\"],\n",
        "        \"labels\":        labels\n",
        "    })\n",
        "\n",
        "    # Disable wandb if needed\n",
        "    os.environ[\"WANDB_DISABLED\"] = \"true\"\n",
        "\n",
        "    training_args = TrainingArguments(\n",
        "        output_dir=model_dir,\n",
        "        per_device_train_batch_size=8,\n",
        "        per_device_eval_batch_size=8,\n",
        "        num_train_epochs=num_train_epochs,\n",
        "        logging_dir=\"./logs\",\n",
        "        save_steps=500,\n",
        "        save_total_limit=2,\n",
        "        eval_strategy=\"no\",\n",
        "        report_to=\"none\"\n",
        "    )\n",
        "\n",
        "    trainer = Trainer(\n",
        "        model=model,\n",
        "        args=training_args,\n",
        "        train_dataset=dataset,\n",
        "        eval_dataset=dataset,  # you can split out a validation set if desired\n",
        "        tokenizer=tokenizer,\n",
        "    )\n",
        "\n",
        "    trainer.train()\n",
        "    trainer.save_model(model_dir)\n",
        "\n",
        "# ==== Grammar correction helper ====\n",
        "def correct_grammar(sentence: str) -> str:\n",
        "    input_text = \"fix: \" + sentence\n",
        "    input_ids  = tokenizer.encode(input_text, return_tensors=\"pt\",\n",
        "                                  max_length=max_length, truncation=True).to(device)\n",
        "    output_ids = model.generate(\n",
        "        input_ids, max_length=max_length, num_beams=4, early_stopping=True\n",
        "    )\n",
        "    return tokenizer.decode(output_ids[0], skip_special_tokens=True).strip()\n",
        "\n",
        "# ==== Evaluation on full dataset ====\n",
        "print(\"\\nEvaluating on the full dataset:\")\n",
        "total_bleu   = 0.0\n",
        "correct_exact= 0\n",
        "n           = len(df)\n",
        "\n",
        "for ungram, ref in zip(df['Ungrammatical Statement'], df['Standard English']):\n",
        "    pred = correct_grammar(ungram)\n",
        "    # BLEU\n",
        "    bleu = sentence_bleu([ref.split()], pred.split(), smoothing_function=smoothie)\n",
        "    total_bleu += bleu\n",
        "    # Exact-match (case-insensitive)\n",
        "    if pred.lower() == ref.lower():\n",
        "        correct_exact += 1\n",
        "\n",
        "avg_bleu  = total_bleu / n\n",
        "accuracy  = correct_exact / n\n",
        "\n",
        "print(f\"Average BLEU score:    {avg_bleu:.4f}\")\n",
        "print(f\"Exact Match Accuracy: {accuracy:.2%}\")\n",
        "\n",
        "# ==== Interactive correction ====\n",
        "if __name__ == \"__main__\":\n",
        "    while True:\n",
        "        user_input = input(\"\\nEnter a sentence to correct (or 'quit' to exit):\\n\")\n",
        "        if user_input.strip().lower() in {\"quit\", \"exit\"}:\n",
        "            break\n",
        "        print(\"Corrected:\", correct_grammar(user_input))"
      ],
      "metadata": {
        "id": "9oyh3cXji_Dc",
        "outputId": "b39d6498-2c0e-4e2f-dc2e-31725b837da9",
        "colab": {
          "base_uri": "https://localhost:8080/",
          "height": 929
        }
      },
      "execution_count": null,
      "outputs": [
        {
          "output_type": "stream",
          "name": "stdout",
          "text": [
            "No saved model found. Training model from scratch...\n"
          ]
        },
        {
          "output_type": "stream",
          "name": "stderr",
          "text": [
            "<ipython-input-6-257b1eed87d1>:61: FutureWarning: `tokenizer` is deprecated and will be removed in version 5.0.0 for `Trainer.__init__`. Use `processing_class` instead.\n",
            "  trainer = Trainer(\n",
            "Passing a tuple of `past_key_values` is deprecated and will be removed in Transformers v4.48.0. You should pass an instance of `EncoderDecoderCache` instead, e.g. `past_key_values=EncoderDecoderCache.from_legacy_cache(past_key_values)`.\n"
          ]
        },
        {
          "output_type": "display_data",
          "data": {
            "text/plain": [
              "<IPython.core.display.HTML object>"
            ],
            "text/html": [
              "\n",
              "    <div>\n",
              "      \n",
              "      <progress value='1012' max='1012' style='width:300px; height:20px; vertical-align: middle;'></progress>\n",
              "      [1012/1012 03:55, Epoch 4/4]\n",
              "    </div>\n",
              "    <table border=\"1\" class=\"dataframe\">\n",
              "  <thead>\n",
              " <tr style=\"text-align: left;\">\n",
              "      <th>Step</th>\n",
              "      <th>Training Loss</th>\n",
              "    </tr>\n",
              "  </thead>\n",
              "  <tbody>\n",
              "    <tr>\n",
              "      <td>500</td>\n",
              "      <td>0.334400</td>\n",
              "    </tr>\n",
              "    <tr>\n",
              "      <td>1000</td>\n",
              "      <td>0.182200</td>\n",
              "    </tr>\n",
              "  </tbody>\n",
              "</table><p>"
            ]
          },
          "metadata": {}
        },
        {
          "name": "stdout",
          "output_type": "stream",
          "text": [
            "\n",
            "Evaluating on the full dataset:\n",
            "Average BLEU score:    0.8332\n",
            "Exact Match Accuracy: 59.12%\n",
            "\n",
            "Enter a sentence to correct (or 'quit' to exit):\n",
            "she are running late\n",
            "Corrected: she is running late\n",
            "\n",
            "Enter a sentence to correct (or 'quit' to exit):\n",
            "she do the homework\n",
            "Corrected: she does the homework\n",
            "\n",
            "Enter a sentence to correct (or 'quit' to exit):\n",
            "she have a headache\n",
            "Corrected: she has a headache\n",
            "\n",
            "Enter a sentence to correct (or 'quit' to exit):\n",
            "she had make a cake\n",
            "Corrected: she had made a cake\n",
            "\n",
            "Enter a sentence to correct (or 'quit' to exit):\n",
            "she has done the homewerk\n",
            "Corrected: she has done the homework\n",
            "\n",
            "Enter a sentence to correct (or 'quit' to exit):\n",
            "he aren't feeling good\n",
            "Corrected: he is not feeling good\n",
            "\n",
            "Enter a sentence to correct (or 'quit' to exit):\n",
            "does they made the cake yesterday?\n",
            "Corrected: do they make the cake yesterday?\n",
            "\n",
            "Enter a sentence to correct (or 'quit' to exit):\n",
            "I has a prety face\n",
            "Corrected: i have a prety face\n",
            "\n",
            "Enter a sentence to correct (or 'quit' to exit):\n",
            "they is run fast\n",
            "Corrected: they are running fast\n",
            "\n",
            "Enter a sentence to correct (or 'quit' to exit):\n",
            "quit\n"
          ]
        }
      ]
    },
    {
      "cell_type": "code",
      "source": [
        "import os\n",
        "import numpy as np\n",
        "import pandas as pd\n",
        "from sklearn.model_selection import KFold\n",
        "from sklearn.metrics import precision_recall_fscore_support, accuracy_score\n",
        "from transformers import T5Tokenizer, T5ForConditionalGeneration, Trainer, TrainingArguments\n",
        "from datasets import Dataset\n",
        "from nltk.translate.bleu_score import sentence_bleu, SmoothingFunction\n",
        "import torch\n",
        "\n",
        "# ==== Configuration ====\n",
        "model_name = \"google/flan-t5-base\"\n",
        "model_dir = \"./flan-t5-grammar-correction\"\n",
        "k_folds = 5\n",
        "num_train_epochs = 2\n",
        "max_length = 64\n",
        "device = torch.device(\"cuda\" if torch.cuda.is_available() else \"cpu\")\n",
        "\n",
        "# ==== Load tokenizer ====\n",
        "tokenizer = T5Tokenizer.from_pretrained(model_name)\n",
        "smoothie = SmoothingFunction().method4\n",
        "\n",
        "\n",
        "# ==== Metrics Report ====\n",
        "def report(name, vals):\n",
        "    mean, std = np.mean(vals), np.std(vals)\n",
        "    print(f\"{name}: {mean:.4f} ± {std:.4f}\")\n",
        "\n",
        "# ==== Load or Train Model ====\n",
        "if os.path.exists(model_dir):\n",
        "    print(\"Saved model found. Loading the model...\")\n",
        "    model = T5ForConditionalGeneration.from_pretrained(model_dir).to(device)\n",
        "else:\n",
        "    print(\"No saved model found. Starting training with cross-validation...\")\n",
        "\n",
        "    accuracy_scores, precision_scores, recall_scores, f1_scores, bleu_scores = [], [], [], [], []\n",
        "    kf = KFold(n_splits=k_folds, shuffle=True, random_state=42)\n",
        "    fold_num = 1\n",
        "\n",
        "    for train_index, val_index in kf.split(df):\n",
        "        print(f\"\\n=== Fold {fold_num} ===\")\n",
        "        train_df = df.iloc[train_index].reset_index(drop=True)\n",
        "        val_df = df.iloc[val_index].reset_index(drop=True)\n",
        "\n",
        "        train_inputs = [\"correct: \" + s for s in train_df['Ungrammatical Statement']]\n",
        "        train_targets = train_df['Standard English'].tolist()\n",
        "\n",
        "        val_inputs = [\"correct: \" + s for s in val_df['Ungrammatical Statement']]\n",
        "        val_targets = val_df['Standard English'].tolist()\n",
        "\n",
        "        # Tokenize\n",
        "        train_encodings = tokenizer(train_inputs, padding=\"max_length\", truncation=True, max_length=max_length, return_tensors=\"pt\")\n",
        "        target_encodings = tokenizer(train_targets, padding=\"max_length\", truncation=True, max_length=max_length, return_tensors=\"pt\")\n",
        "        train_labels = target_encodings[\"input_ids\"]\n",
        "        train_labels[train_labels == tokenizer.pad_token_id] = -100\n",
        "\n",
        "        train_dataset = Dataset.from_dict({\n",
        "            'input_ids': train_encodings['input_ids'],\n",
        "            'attention_mask': train_encodings['attention_mask'],\n",
        "            'labels': train_labels\n",
        "        })\n",
        "\n",
        "        val_encodings = tokenizer(val_inputs, padding=\"max_length\", truncation=True, max_length=max_length, return_tensors=\"pt\")\n",
        "        val_target_encodings = tokenizer(val_targets, padding=\"max_length\", truncation=True, max_length=max_length, return_tensors=\"pt\")\n",
        "        val_labels = val_target_encodings[\"input_ids\"]\n",
        "        val_labels[val_labels == tokenizer.pad_token_id] = -100\n",
        "\n",
        "        val_dataset = Dataset.from_dict({\n",
        "            'input_ids': val_encodings['input_ids'],\n",
        "            'attention_mask': val_encodings['attention_mask'],\n",
        "            'labels': val_labels\n",
        "        })\n",
        "\n",
        "        # Initialize model\n",
        "        model = T5ForConditionalGeneration.from_pretrained(model_name).to(device)\n",
        "\n",
        "        training_args = TrainingArguments(\n",
        "            output_dir=f\"./flan-t5-cv-fold{fold_num}\",\n",
        "            per_device_train_batch_size=8,\n",
        "            per_device_eval_batch_size=8,\n",
        "            num_train_epochs=num_train_epochs,\n",
        "            logging_dir=\"./logs\",\n",
        "            save_steps=500,\n",
        "            save_total_limit=1,\n",
        "            report_to=\"none\"\n",
        "        )\n",
        "\n",
        "        trainer = Trainer(\n",
        "            model=model,\n",
        "            args=training_args,\n",
        "            train_dataset=train_dataset,\n",
        "            eval_dataset=val_dataset,\n",
        "        )\n",
        "\n",
        "        trainer.train()\n",
        "\n",
        "        # Evaluation\n",
        "        model.eval()\n",
        "        predictions = []\n",
        "        references = [r.strip() for r in val_targets]\n",
        "\n",
        "        for sentence in val_inputs:\n",
        "            input_ids = tokenizer.encode(sentence, return_tensors=\"pt\", max_length=max_length, truncation=True).to(device)\n",
        "            with torch.no_grad():\n",
        "                outputs = model.generate(input_ids, max_length=max_length, num_beams=4, early_stopping=True)\n",
        "            pred = tokenizer.decode(outputs[0], skip_special_tokens=True).strip()\n",
        "            predictions.append(pred)\n",
        "\n",
        "        bleu_sum = 0\n",
        "        correct_exact = 0\n",
        "        for pred, ref in zip(predictions, references):\n",
        "            pred_tokens = pred.split()\n",
        "            ref_tokens = ref.split()\n",
        "            bleu = sentence_bleu([ref_tokens], pred_tokens, smoothing_function=smoothie)\n",
        "            bleu_sum += bleu\n",
        "            if pred.lower() == ref.lower():\n",
        "                correct_exact += 1\n",
        "        bleu_score = bleu_sum / len(predictions)\n",
        "        accuracy = correct_exact / len(predictions)\n",
        "\n",
        "        y_true = [1] * len(references)\n",
        "        y_pred = [1 if p.lower() == r.lower() else 0 for p, r in zip(predictions, references)]\n",
        "\n",
        "        precision, recall, f1, _ = precision_recall_fscore_support(y_true, y_pred, average='micro')\n",
        "\n",
        "        print(f\"Fold {fold_num}: BLEU={bleu_score:.4f}, Accuracy={accuracy:.4f}, \"\n",
        "              f\"Precision={precision:.4f}, Recall={recall:.4f}, F1={f1:.4f}\")\n",
        "\n",
        "        accuracy_scores.append(accuracy)\n",
        "        precision_scores.append(precision)\n",
        "        recall_scores.append(recall)\n",
        "        f1_scores.append(f1)\n",
        "        bleu_scores.append(bleu_score)\n",
        "\n",
        "        fold_num += 1\n",
        "\n",
        "    print(\"\\n=== Cross-validation summary ===\")\n",
        "    report(\"BLEU\", bleu_scores)\n",
        "    report(\"Accuracy\", accuracy_scores)\n",
        "    report(\"Precision\", precision_scores)\n",
        "    report(\"Recall\", recall_scores)\n",
        "    report(\"F1-score\", f1_scores)\n",
        "\n",
        "    # Final training on full dataset\n",
        "    print(\"\\nTraining on full dataset for final model...\")\n",
        "\n",
        "    full_inputs = [\"correct: \" + s for s in df['Ungrammatical Statement']]\n",
        "    full_targets = df['Standard English'].tolist()\n",
        "\n",
        "    full_input_enc = tokenizer(full_inputs, padding=\"max_length\", truncation=True, max_length=max_length, return_tensors=\"pt\")\n",
        "    full_target_enc = tokenizer(full_targets, padding=\"max_length\", truncation=True, max_length=max_length, return_tensors=\"pt\")\n",
        "\n",
        "    labels = full_target_enc[\"input_ids\"]\n",
        "    labels[labels == tokenizer.pad_token_id] = -100\n",
        "\n",
        "    full_dataset = Dataset.from_dict({\n",
        "        'input_ids': full_input_enc['input_ids'],\n",
        "        'attention_mask': full_input_enc['attention_mask'],\n",
        "        'labels': labels\n",
        "    })\n",
        "\n",
        "    model = T5ForConditionalGeneration.from_pretrained(model_name).to(device)\n",
        "\n",
        "    training_args = TrainingArguments(\n",
        "        output_dir=model_dir,\n",
        "        per_device_train_batch_size=8,\n",
        "        per_device_eval_batch_size=8,\n",
        "        num_train_epochs=num_train_epochs,\n",
        "        logging_dir=\"./logs\",\n",
        "        save_steps=500,\n",
        "        save_total_limit=2,\n",
        "    )\n",
        "\n",
        "    trainer = Trainer(\n",
        "        model=model,\n",
        "        args=training_args,\n",
        "        train_dataset=full_dataset,\n",
        "        eval_dataset=full_dataset,\n",
        "    )\n",
        "\n",
        "    trainer.train()\n",
        "    trainer.save_model(model_dir)\n",
        "\n",
        "# ==== Grammar Correction Function ====\n",
        "def correct_grammar(sentence):\n",
        "    input_text = \"correct: \" + sentence\n",
        "    input_ids = tokenizer.encode(input_text, return_tensors=\"pt\", max_length=max_length, truncation=True).to(device)\n",
        "    output_ids = model.generate(input_ids, max_length=max_length, num_beams=4, early_stopping=True)\n",
        "    return tokenizer.decode(output_ids[0], skip_special_tokens=True)\n",
        "\n",
        "# User interaction\n",
        "user_sentence = input(\"\\nEnter a sentence to correct grammar:\\n\")\n",
        "corrected_sentence = correct_grammar(user_sentence)\n",
        "print(\"Corrected:\", corrected_sentence)"
      ],
      "metadata": {
        "colab": {
          "base_uri": "https://localhost:8080/",
          "height": 1000
        },
        "id": "747z5nGLXyur",
        "outputId": "d5ff255f-db35-462d-f567-f8b0421931e2"
      },
      "execution_count": null,
      "outputs": [
        {
          "output_type": "stream",
          "name": "stdout",
          "text": [
            "No saved model found. Starting training with cross-validation...\n",
            "\n",
            "=== Fold 1 ===\n"
          ]
        },
        {
          "output_type": "display_data",
          "data": {
            "text/plain": [
              "<IPython.core.display.HTML object>"
            ],
            "text/html": [
              "\n",
              "    <div>\n",
              "      \n",
              "      <progress value='404' max='404' style='width:300px; height:20px; vertical-align: middle;'></progress>\n",
              "      [404/404 01:37, Epoch 2/2]\n",
              "    </div>\n",
              "    <table border=\"1\" class=\"dataframe\">\n",
              "  <thead>\n",
              " <tr style=\"text-align: left;\">\n",
              "      <th>Step</th>\n",
              "      <th>Training Loss</th>\n",
              "    </tr>\n",
              "  </thead>\n",
              "  <tbody>\n",
              "  </tbody>\n",
              "</table><p>"
            ]
          },
          "metadata": {}
        },
        {
          "output_type": "stream",
          "name": "stdout",
          "text": [
            "Fold 1: BLEU=0.7674, Accuracy=0.5173, Precision=0.5173, Recall=0.5173, F1=0.5173\n",
            "\n",
            "=== Fold 2 ===\n"
          ]
        },
        {
          "output_type": "display_data",
          "data": {
            "text/plain": [
              "<IPython.core.display.HTML object>"
            ],
            "text/html": [
              "\n",
              "    <div>\n",
              "      \n",
              "      <progress value='404' max='404' style='width:300px; height:20px; vertical-align: middle;'></progress>\n",
              "      [404/404 01:33, Epoch 2/2]\n",
              "    </div>\n",
              "    <table border=\"1\" class=\"dataframe\">\n",
              "  <thead>\n",
              " <tr style=\"text-align: left;\">\n",
              "      <th>Step</th>\n",
              "      <th>Training Loss</th>\n",
              "    </tr>\n",
              "  </thead>\n",
              "  <tbody>\n",
              "  </tbody>\n",
              "</table><p>"
            ]
          },
          "metadata": {}
        },
        {
          "output_type": "stream",
          "name": "stdout",
          "text": [
            "Fold 2: BLEU=0.7604, Accuracy=0.4876, Precision=0.4876, Recall=0.4876, F1=0.4876\n",
            "\n",
            "=== Fold 3 ===\n"
          ]
        },
        {
          "output_type": "display_data",
          "data": {
            "text/plain": [
              "<IPython.core.display.HTML object>"
            ],
            "text/html": [
              "\n",
              "    <div>\n",
              "      \n",
              "      <progress value='404' max='404' style='width:300px; height:20px; vertical-align: middle;'></progress>\n",
              "      [404/404 01:33, Epoch 2/2]\n",
              "    </div>\n",
              "    <table border=\"1\" class=\"dataframe\">\n",
              "  <thead>\n",
              " <tr style=\"text-align: left;\">\n",
              "      <th>Step</th>\n",
              "      <th>Training Loss</th>\n",
              "    </tr>\n",
              "  </thead>\n",
              "  <tbody>\n",
              "  </tbody>\n",
              "</table><p>"
            ]
          },
          "metadata": {}
        },
        {
          "output_type": "stream",
          "name": "stdout",
          "text": [
            "Fold 3: BLEU=0.7440, Accuracy=0.4827, Precision=0.4827, Recall=0.4827, F1=0.4827\n",
            "\n",
            "=== Fold 4 ===\n"
          ]
        },
        {
          "output_type": "display_data",
          "data": {
            "text/plain": [
              "<IPython.core.display.HTML object>"
            ],
            "text/html": [
              "\n",
              "    <div>\n",
              "      \n",
              "      <progress value='404' max='404' style='width:300px; height:20px; vertical-align: middle;'></progress>\n",
              "      [404/404 01:34, Epoch 2/2]\n",
              "    </div>\n",
              "    <table border=\"1\" class=\"dataframe\">\n",
              "  <thead>\n",
              " <tr style=\"text-align: left;\">\n",
              "      <th>Step</th>\n",
              "      <th>Training Loss</th>\n",
              "    </tr>\n",
              "  </thead>\n",
              "  <tbody>\n",
              "  </tbody>\n",
              "</table><p>"
            ]
          },
          "metadata": {}
        },
        {
          "output_type": "stream",
          "name": "stdout",
          "text": [
            "Fold 4: BLEU=0.7239, Accuracy=0.4491, Precision=0.4491, Recall=0.4491, F1=0.4491\n",
            "\n",
            "=== Fold 5 ===\n"
          ]
        },
        {
          "output_type": "display_data",
          "data": {
            "text/plain": [
              "<IPython.core.display.HTML object>"
            ],
            "text/html": [
              "\n",
              "    <div>\n",
              "      \n",
              "      <progress value='404' max='404' style='width:300px; height:20px; vertical-align: middle;'></progress>\n",
              "      [404/404 02:00, Epoch 2/2]\n",
              "    </div>\n",
              "    <table border=\"1\" class=\"dataframe\">\n",
              "  <thead>\n",
              " <tr style=\"text-align: left;\">\n",
              "      <th>Step</th>\n",
              "      <th>Training Loss</th>\n",
              "    </tr>\n",
              "  </thead>\n",
              "  <tbody>\n",
              "  </tbody>\n",
              "</table><p>"
            ]
          },
          "metadata": {}
        },
        {
          "output_type": "stream",
          "name": "stdout",
          "text": [
            "Fold 5: BLEU=0.7364, Accuracy=0.4938, Precision=0.4938, Recall=0.4938, F1=0.4938\n",
            "\n",
            "=== Cross-validation summary ===\n",
            "BLEU: 0.7464 ± 0.0158\n",
            "Accuracy: 0.4861 ± 0.0220\n",
            "Precision: 0.4861 ± 0.0220\n",
            "Recall: 0.4861 ± 0.0220\n",
            "F1-score: 0.4861 ± 0.0220\n",
            "\n",
            "Training on full dataset for final model...\n"
          ]
        },
        {
          "output_type": "stream",
          "name": "stderr",
          "text": [
            "\u001b[34m\u001b[1mwandb\u001b[0m: \u001b[33mWARNING\u001b[0m The `run_name` is currently set to the same value as `TrainingArguments.output_dir`. If this was not intended, please specify a different run name by setting the `TrainingArguments.run_name` parameter.\n"
          ]
        },
        {
          "output_type": "display_data",
          "data": {
            "text/plain": [
              "<IPython.core.display.Javascript object>"
            ],
            "application/javascript": [
              "\n",
              "        window._wandbApiKey = new Promise((resolve, reject) => {\n",
              "            function loadScript(url) {\n",
              "            return new Promise(function(resolve, reject) {\n",
              "                let newScript = document.createElement(\"script\");\n",
              "                newScript.onerror = reject;\n",
              "                newScript.onload = resolve;\n",
              "                document.body.appendChild(newScript);\n",
              "                newScript.src = url;\n",
              "            });\n",
              "            }\n",
              "            loadScript(\"https://cdn.jsdelivr.net/npm/postmate/build/postmate.min.js\").then(() => {\n",
              "            const iframe = document.createElement('iframe')\n",
              "            iframe.style.cssText = \"width:0;height:0;border:none\"\n",
              "            document.body.appendChild(iframe)\n",
              "            const handshake = new Postmate({\n",
              "                container: iframe,\n",
              "                url: 'https://wandb.ai/authorize'\n",
              "            });\n",
              "            const timeout = setTimeout(() => reject(\"Couldn't auto authenticate\"), 5000)\n",
              "            handshake.then(function(child) {\n",
              "                child.on('authorize', data => {\n",
              "                    clearTimeout(timeout)\n",
              "                    resolve(data)\n",
              "                });\n",
              "            });\n",
              "            })\n",
              "        });\n",
              "    "
            ]
          },
          "metadata": {}
        },
        {
          "output_type": "stream",
          "name": "stderr",
          "text": [
            "\u001b[34m\u001b[1mwandb\u001b[0m: Logging into wandb.ai. (Learn how to deploy a W&B server locally: https://wandb.me/wandb-server)\n",
            "\u001b[34m\u001b[1mwandb\u001b[0m: You can find your API key in your browser here: https://wandb.ai/authorize?ref=models\n",
            "wandb: Paste an API key from your profile and hit enter:"
          ]
        },
        {
          "name": "stdout",
          "output_type": "stream",
          "text": [
            " ··········\n"
          ]
        },
        {
          "output_type": "stream",
          "name": "stderr",
          "text": [
            "\u001b[34m\u001b[1mwandb\u001b[0m: \u001b[33mWARNING\u001b[0m If you're specifying your api key in code, ensure this code is not shared publicly.\n",
            "\u001b[34m\u001b[1mwandb\u001b[0m: \u001b[33mWARNING\u001b[0m Consider setting the WANDB_API_KEY environment variable, or running `wandb login` from the command line.\n",
            "\u001b[34m\u001b[1mwandb\u001b[0m: No netrc file found, creating one.\n",
            "\u001b[34m\u001b[1mwandb\u001b[0m: Appending key for api.wandb.ai to your netrc file: /root/.netrc\n",
            "\u001b[34m\u001b[1mwandb\u001b[0m: Currently logged in as: \u001b[33mmariam2206043\u001b[0m (\u001b[33mmariam2206043-misr-international-university\u001b[0m) to \u001b[32mhttps://api.wandb.ai\u001b[0m. Use \u001b[1m`wandb login --relogin`\u001b[0m to force relogin\n"
          ]
        },
        {
          "output_type": "display_data",
          "data": {
            "text/plain": [
              "<IPython.core.display.HTML object>"
            ],
            "text/html": [
              "Tracking run with wandb version 0.19.11"
            ]
          },
          "metadata": {}
        },
        {
          "output_type": "display_data",
          "data": {
            "text/plain": [
              "<IPython.core.display.HTML object>"
            ],
            "text/html": [
              "Run data is saved locally in <code>/content/wandb/run-20250525_221851-esx0wf82</code>"
            ]
          },
          "metadata": {}
        },
        {
          "output_type": "display_data",
          "data": {
            "text/plain": [
              "<IPython.core.display.HTML object>"
            ],
            "text/html": [
              "Syncing run <strong><a href='https://wandb.ai/mariam2206043-misr-international-university/huggingface/runs/esx0wf82' target=\"_blank\">./flan-t5-grammar-correction</a></strong> to <a href='https://wandb.ai/mariam2206043-misr-international-university/huggingface' target=\"_blank\">Weights & Biases</a> (<a href='https://wandb.me/developer-guide' target=\"_blank\">docs</a>)<br>"
            ]
          },
          "metadata": {}
        },
        {
          "output_type": "display_data",
          "data": {
            "text/plain": [
              "<IPython.core.display.HTML object>"
            ],
            "text/html": [
              " View project at <a href='https://wandb.ai/mariam2206043-misr-international-university/huggingface' target=\"_blank\">https://wandb.ai/mariam2206043-misr-international-university/huggingface</a>"
            ]
          },
          "metadata": {}
        },
        {
          "output_type": "display_data",
          "data": {
            "text/plain": [
              "<IPython.core.display.HTML object>"
            ],
            "text/html": [
              " View run at <a href='https://wandb.ai/mariam2206043-misr-international-university/huggingface/runs/esx0wf82' target=\"_blank\">https://wandb.ai/mariam2206043-misr-international-university/huggingface/runs/esx0wf82</a>"
            ]
          },
          "metadata": {}
        },
        {
          "output_type": "display_data",
          "data": {
            "text/plain": [
              "<IPython.core.display.HTML object>"
            ],
            "text/html": [
              "\n",
              "    <div>\n",
              "      \n",
              "      <progress value='506' max='506' style='width:300px; height:20px; vertical-align: middle;'></progress>\n",
              "      [506/506 02:09, Epoch 2/2]\n",
              "    </div>\n",
              "    <table border=\"1\" class=\"dataframe\">\n",
              "  <thead>\n",
              " <tr style=\"text-align: left;\">\n",
              "      <th>Step</th>\n",
              "      <th>Training Loss</th>\n",
              "    </tr>\n",
              "  </thead>\n",
              "  <tbody>\n",
              "    <tr>\n",
              "      <td>500</td>\n",
              "      <td>0.345600</td>\n",
              "    </tr>\n",
              "  </tbody>\n",
              "</table><p>"
            ]
          },
          "metadata": {}
        },
        {
          "output_type": "stream",
          "name": "stdout",
          "text": [
            "\n",
            "Enter a sentence to correct grammar:\n",
            "she are running late\n",
            "Corrected: she is running late\n"
          ]
        }
      ]
    },
    {
      "cell_type": "code",
      "source": [
        "import matplotlib.pyplot as plt\n",
        "import seaborn as sns\n",
        "import pandas as pd\n",
        "import numpy as np\n",
        "from sklearn.metrics import confusion_matrix, ConfusionMatrixDisplay\n",
        "from wordcloud import WordCloud\n",
        "\n",
        "# === 1. Cross-Validation Metrics Summary (Bar Plot with Error Bars) ===\n",
        "metrics = {\n",
        "    'BLEU': bleu_scores,\n",
        "    'Accuracy': accuracy_scores,\n",
        "    'Precision': precision_scores,\n",
        "    'Recall': recall_scores,\n",
        "    'F1-score': f1_scores\n",
        "}\n",
        "\n",
        "# Fix: Use DataFrame + matplotlib for error bars\n",
        "metric_names = list(metrics.keys())\n",
        "means = [np.mean(metrics[m]) for m in metric_names]\n",
        "stds = [np.std(metrics[m]) for m in metric_names]\n",
        "\n",
        "df_plot = pd.DataFrame({\n",
        "    'Metric': metric_names,\n",
        "    'Mean': means,\n",
        "    'Std': stds\n",
        "})\n",
        "\n",
        "plt.figure(figsize=(10, 6))\n",
        "bar = sns.barplot(data=df_plot, x='Metric', y='Mean', palette='viridis', errorbar=None, legend=False)\n",
        "plt.errorbar(x=range(len(means)), y=means, yerr=stds, fmt='none', c='black', capsize=5)\n",
        "\n",
        "plt.title(\"Cross-Validation Metrics with Standard Deviation\")\n",
        "plt.ylabel(\"Score\")\n",
        "plt.ylim(0, 1)\n",
        "plt.grid(axis='y')\n",
        "plt.show()\n",
        "\n",
        "\n",
        "# === 2. Per-Fold Metric Trends (Line Plot) ===\n",
        "folds = list(range(1, len(bleu_scores) + 1))\n",
        "plt.figure(figsize=(12, 6))\n",
        "for metric, values in metrics.items():\n",
        "    plt.plot(folds, values, label=metric, marker='o')\n",
        "\n",
        "plt.title(\"Model Performance per Fold\")\n",
        "plt.xlabel(\"Fold\")\n",
        "plt.ylabel(\"Score\")\n",
        "plt.xticks(folds)\n",
        "plt.legend()\n",
        "plt.grid(True)\n",
        "plt.show()\n",
        "\n",
        "# === 3. BLEU vs Accuracy Scatter Plot ===\n",
        "plt.figure(figsize=(8, 6))\n",
        "plt.scatter(bleu_scores, accuracy_scores, c='teal', edgecolors='black', s=80)\n",
        "plt.title(\"BLEU vs Accuracy per Fold\")\n",
        "plt.xlabel(\"BLEU Score\")\n",
        "plt.ylabel(\"Accuracy\")\n",
        "plt.grid(True)\n",
        "plt.show()\n",
        "\n",
        "# === 4. Confusion Matrix (Exact Match) ===\n",
        "y_true_bin = [1] * len(y_pred)  # all correct references are labeled 1\n",
        "cm = confusion_matrix(y_true_bin, y_pred)\n",
        "disp = ConfusionMatrixDisplay(confusion_matrix=cm, display_labels=[\"Mismatch\", \"Exact Match\"])\n",
        "disp.plot(cmap=plt.cm.Blues)\n",
        "plt.title(\"Confusion Matrix: Prediction vs Reference\")\n",
        "plt.show()\n",
        "\n",
        "# === 5. Sample Predictions Table (Optional print to CSV or Markdown) ===\n",
        "sample_df = pd.DataFrame({\n",
        "    'Ungrammatical': val_df['Ungrammatical Statement'],\n",
        "    'Reference': references,\n",
        "    'Prediction': predictions\n",
        "})\n",
        "sample_df['Match'] = sample_df['Prediction'].str.lower() == sample_df['Reference'].str.lower()\n",
        "\n",
        "# Display a sample\n",
        "print(sample_df.head(10).to_markdown(index=False))\n",
        "\n",
        "# Optional: Export all predictions\n",
        "sample_df.to_csv(\"sample_predictions.csv\", index=False)\n",
        "\n",
        "# === 6. Word Cloud for Error\n"
      ],
      "metadata": {
        "id": "626M8yH-ihcT",
        "outputId": "a3243633-0b32-4840-ffe7-62bd2ca13971",
        "colab": {
          "base_uri": "https://localhost:8080/",
          "height": 1000
        }
      },
      "execution_count": null,
      "outputs": [
        {
          "output_type": "stream",
          "name": "stderr",
          "text": [
            "<ipython-input-7-867c1ccff244>:29: FutureWarning: \n",
            "\n",
            "Passing `palette` without assigning `hue` is deprecated and will be removed in v0.14.0. Assign the `x` variable to `hue` and set `legend=False` for the same effect.\n",
            "\n",
            "  bar = sns.barplot(data=df_plot, x='Metric', y='Mean', palette='viridis', errorbar=None, legend=False)\n"
          ]
        },
        {
          "output_type": "display_data",
          "data": {
            "text/plain": [
              "<Figure size 1000x600 with 1 Axes>"
            ],
            "image/png": "[encoded data removed]"
          },
          "metadata": {}
        },
        {
          "output_type": "display_data",
          "data": {
            "text/plain": [
              "<Figure size 1200x600 with 1 Axes>"
            ],
            "image/png": "[encoded data removed]"
          },
          "metadata": {}
        },
        {
          "output_type": "display_data",
          "data": {
            "text/plain": [
              "<Figure size 800x600 with 1 Axes>"
            ],
            "image/png": "[encoded data removed]"
          },
          "metadata": {}
        },
        {
          "output_type": "display_data",
          "data": {
            "text/plain": [
              "<Figure size 640x480 with 2 Axes>"
            ],
            "image/png": "[encoded data removed]"
          },
          "metadata": {}
        },
        {
          "output_type": "stream",
          "name": "stdout",
          "text": [
            "| Ungrammatical                                   | Reference                                         | Prediction                                       | Match   |\n",
            "|:------------------------------------------------|:--------------------------------------------------|:-------------------------------------------------|:--------|\n",
            "| they was playing soccer last night              | they were playing soccer last night               | they were playing soccer last night              | True    |\n",
            "| she will goes to the party tonight              | she will go to the party tonight                  | she will go to the party tonight                 | True    |\n",
            "| the kids plays video games after school         | the kids play video games after school            | the kids play video games after school           | True    |\n",
            "| the computer not working properly               | the computer is not working properly              | the computer is not working properly             | True    |\n",
            "| i has been to paris three times                 | i have been to paris three times                  | i have been to paris three times                 | True    |\n",
            "| the cat catch the mouse yesterday               | the cat caught the mouse yesterday                | the cat caught the mouse yesterday               | True    |\n",
            "| she buy a new dress for the party               | she buys a new dress for the party                | she buys a new dress for the party               | True    |\n",
            "| the teacher teach the students in the classroom | the teacher teaches the students in the classroom | the teacher taught the students in the classroom | False   |\n",
            "| the dog was chase the squirrel                  | the dog was chasing the squirrel                  | the dog chased the squirrel                      | False   |\n",
            "| the manager gives a speech at the meeting       | the manager gave a speech at the meeting          | the manager gives a speech at the meeting        | False   |\n"
          ]
        }
      ]
    },
    {
      "cell_type": "markdown",
      "source": [
        "# LSTM"
      ],
      "metadata": {
        "id": "KmCbKO9PqNBP"
      }
    },
    {
      "cell_type": "code",
      "source": [
        "import os\n",
        "import torch\n",
        "import torch.nn as nn\n",
        "import torch.optim as optim\n",
        "from torch.utils.data import Dataset, DataLoader\n",
        "from sklearn.model_selection import train_test_split\n",
        "from nltk.translate.bleu_score import sentence_bleu, SmoothingFunction\n",
        "from collections import Counter\n",
        "import pandas as pd\n",
        "\n",
        "# ---- Config ----\n",
        "model_dir = \"./lstm-grammar-correction\"\n",
        "max_len = 64\n",
        "batch_size = 16\n",
        "epochs = 10\n",
        "hidden_size = 256\n",
        "device = torch.device(\"cuda\" if torch.cuda.is_available() else \"cpu\")\n",
        "\n",
        "# ---- Tokenizer ----\n",
        "class SimpleTokenizer:\n",
        "    def __init__(self, texts, min_freq=1):\n",
        "        words = [word for text in texts for word in text.lower().split()]\n",
        "        vocab = [word for word, freq in Counter(words).items() if freq >= min_freq]\n",
        "        self.word2idx = {\"<pad>\": 0, \"<sos>\": 1, \"<eos>\": 2, \"<unk>\": 3}\n",
        "        for idx, word in enumerate(vocab, start=4):\n",
        "            self.word2idx[word] = idx\n",
        "        self.idx2word = {idx: word for word, idx in self.word2idx.items()}\n",
        "\n",
        "    def encode(self, text):\n",
        "        return [self.word2idx.get(word.lower(), 3) for word in text.split()][:max_len-2]\n",
        "\n",
        "    def decode(self, tokens):\n",
        "        words = [self.idx2word.get(token, \"<unk>\") for token in tokens]\n",
        "        return ' '.join([w for w in words if w not in [\"<pad>\", \"<sos>\", \"<eos>\"]])\n",
        "\n",
        "    def pad_and_add_tokens(self, tokens):\n",
        "        tokens = [1] + tokens + [2]\n",
        "        tokens += [0] * (max_len - len(tokens))\n",
        "        return tokens[:max_len]\n",
        "\n",
        "    def vocab_size(self):\n",
        "        return len(self.word2idx)\n",
        "\n",
        "# ---- Dataset ----\n",
        "class GrammarDataset(Dataset):\n",
        "    def __init__(self, inputs, targets, tokenizer):\n",
        "        self.inputs = inputs\n",
        "        self.targets = targets\n",
        "        self.tokenizer = tokenizer\n",
        "\n",
        "    def __len__(self):\n",
        "        return len(self.inputs)\n",
        "\n",
        "    def __getitem__(self, idx):\n",
        "        src = self.tokenizer.pad_and_add_tokens(self.tokenizer.encode(self.inputs[idx]))\n",
        "        tgt = self.tokenizer.pad_and_add_tokens(self.tokenizer.encode(self.targets[idx]))\n",
        "        return torch.tensor(src), torch.tensor(tgt)\n",
        "\n",
        "# ---- LSTM Model ----\n",
        "class Encoder(nn.Module):\n",
        "    def __init__(self, vocab_size, embed_size, hidden_size):\n",
        "        super().__init__()\n",
        "        self.embed = nn.Embedding(vocab_size, embed_size, padding_idx=0)\n",
        "        self.lstm = nn.LSTM(embed_size, hidden_size, batch_first=True)\n",
        "\n",
        "    def forward(self, x):\n",
        "        embedded = self.embed(x)\n",
        "        outputs, (hidden, cell) = self.lstm(embedded)\n",
        "        return hidden, cell\n",
        "\n",
        "class Decoder(nn.Module):\n",
        "    def __init__(self, vocab_size, embed_size, hidden_size):\n",
        "        super().__init__()\n",
        "        self.embed = nn.Embedding(vocab_size, embed_size, padding_idx=0)\n",
        "        self.lstm = nn.LSTM(embed_size, hidden_size, batch_first=True)\n",
        "        self.fc = nn.Linear(hidden_size, vocab_size)\n",
        "\n",
        "    def forward(self, x, hidden, cell):\n",
        "        x = x.unsqueeze(1)  # (batch, 1)\n",
        "        embedded = self.embed(x)\n",
        "        output, (hidden, cell) = self.lstm(embedded, (hidden, cell))\n",
        "        pred = self.fc(output.squeeze(1))\n",
        "        return pred, hidden, cell\n",
        "\n",
        "class Seq2Seq(nn.Module):\n",
        "    def __init__(self, encoder, decoder, pad_idx):\n",
        "        super().__init__()\n",
        "        self.encoder = encoder\n",
        "        self.decoder = decoder\n",
        "        self.pad_idx = pad_idx\n",
        "\n",
        "    def forward(self, src, tgt, teacher_forcing_ratio=0.5):\n",
        "        batch_size, tgt_len = tgt.size()\n",
        "        outputs = torch.zeros(batch_size, tgt_len, self.decoder.fc.out_features).to(device)\n",
        "\n",
        "        hidden, cell = self.encoder(src)\n",
        "        input_token = tgt[:, 0]  # <sos>\n",
        "\n",
        "        for t in range(1, tgt_len):\n",
        "            output, hidden, cell = self.decoder(input_token, hidden, cell)\n",
        "            outputs[:, t] = output\n",
        "            best_guess = output.argmax(1)\n",
        "            input_token = tgt[:, t] if torch.rand(1).item() < teacher_forcing_ratio else best_guess\n",
        "\n",
        "        return outputs\n",
        "\n",
        "# ---- Load / Train ----\n",
        "if os.path.exists(model_dir):\n",
        "    print(\"Loading saved model...\")\n",
        "    tokenizer = torch.load(os.path.join(model_dir, \"tokenizer.pt\"))\n",
        "    model = torch.load(os.path.join(model_dir, \"model.pt\"))\n",
        "else:\n",
        "    print(\"Training new model...\")\n",
        "    inputs = df[\"Ungrammatical Statement\"].tolist()\n",
        "    targets = df[\"Standard English\"].tolist()\n",
        "\n",
        "    tokenizer = SimpleTokenizer(inputs + targets)\n",
        "    train_inputs, val_inputs, train_targets, val_targets = train_test_split(inputs, targets, test_size=0.1)\n",
        "\n",
        "    train_dataset = GrammarDataset(train_inputs, train_targets, tokenizer)\n",
        "    train_loader = DataLoader(train_dataset, batch_size=batch_size, shuffle=True)\n",
        "\n",
        "    encoder = Encoder(tokenizer.vocab_size(), embed_size=128, hidden_size=hidden_size)\n",
        "    decoder = Decoder(tokenizer.vocab_size(), embed_size=128, hidden_size=hidden_size)\n",
        "    model = Seq2Seq(encoder, decoder, pad_idx=0).to(device)\n",
        "\n",
        "    criterion = nn.CrossEntropyLoss(ignore_index=0)\n",
        "    optimizer = optim.Adam(model.parameters(), lr=1e-3)\n",
        "\n",
        "    for epoch in range(epochs):\n",
        "        model.train()\n",
        "        total_loss = 0\n",
        "        for src, tgt in train_loader:\n",
        "            src, tgt = src.to(device), tgt.to(device)\n",
        "            output = model(src, tgt)\n",
        "            output = output[:, 1:].reshape(-1, output.shape[2])\n",
        "            tgt = tgt[:, 1:].reshape(-1)\n",
        "            loss = criterion(output, tgt)\n",
        "            optimizer.zero_grad()\n",
        "            loss.backward()\n",
        "            optimizer.step()\n",
        "            total_loss += loss.item()\n",
        "        print(f\"Epoch {epoch+1}, Loss: {total_loss / len(train_loader):.4f}\")\n",
        "\n",
        "    os.makedirs(model_dir, exist_ok=True)\n",
        "    torch.save(model, os.path.join(model_dir, \"model.pt\"))\n",
        "    torch.save(tokenizer, os.path.join(model_dir, \"tokenizer.pt\"))\n",
        "\n",
        "# ---- Inference ----\n",
        "def correct_grammar_lstm(sentence):\n",
        "    model.eval()\n",
        "    tokens = tokenizer.pad_and_add_tokens(tokenizer.encode(sentence))\n",
        "    src = torch.tensor(tokens).unsqueeze(0).to(device)\n",
        "    hidden, cell = model.encoder(src)\n",
        "\n",
        "    outputs = []\n",
        "    input_token = torch.tensor([1]).to(device)  # <sos>\n",
        "    for _ in range(max_len):\n",
        "        output, hidden, cell = model.decoder(input_token, hidden, cell)\n",
        "        pred_token = output.argmax(1).item()\n",
        "        if pred_token == 2:  # <eos>\n",
        "            break\n",
        "        outputs.append(pred_token)\n",
        "        input_token = torch.tensor([pred_token]).to(device)\n",
        "\n",
        "    return tokenizer.decode(outputs)\n",
        "\n",
        "# ---- Evaluation ----\n",
        "print(\"\\nEvaluating model on the dataset...\\n\")\n",
        "smoothie = SmoothingFunction().method4\n",
        "total_bleu = 0\n",
        "correct_count = 0\n",
        "\n",
        "for ungram, ref in zip(df['Ungrammatical Statement'], df['Standard English']):\n",
        "    pred = correct_grammar_lstm(ungram).strip()\n",
        "    ref = ref.strip()\n",
        "\n",
        "    ref_tokens = ref.split()\n",
        "    pred_tokens = pred.split()\n",
        "    bleu = sentence_bleu([ref_tokens], pred_tokens, smoothing_function=smoothie)\n",
        "    total_bleu += bleu\n",
        "\n",
        "    if pred.lower() == ref.lower():\n",
        "        correct_count += 1\n",
        "\n",
        "average_bleu = total_bleu / len(df)\n",
        "accuracy = correct_count / len(df)\n",
        "\n",
        "print(f\"Average BLEU score: {average_bleu:.4f}\")\n",
        "print(f\"Exact Match Accuracy: {accuracy:.2%}\")\n",
        "\n",
        "# ---- Test on user input ----\n",
        "user_sentence = input(\"\\nEnter a sentence to correct grammar:\\n\")\n",
        "corrected_sentence = correct_grammar_lstm(user_sentence)\n",
        "print(\"Corrected:\", corrected_sentence)"
      ],
      "metadata": {
        "colab": {
          "base_uri": "https://localhost:8080/"
        },
        "id": "Ji4JGtJlqBj-",
        "outputId": "db011d57-6a15-49f1-fe5a-5eb2f52d7000"
      },
      "execution_count": 11,
      "outputs": [
        {
          "output_type": "stream",
          "name": "stdout",
          "text": [
            "Training new model...\n",
            "Epoch 1, Loss: 6.2108\n",
            "Epoch 2, Loss: 5.5133\n",
            "Epoch 3, Loss: 5.3374\n",
            "Epoch 4, Loss: 5.2007\n",
            "Epoch 5, Loss: 5.1104\n",
            "Epoch 6, Loss: 4.9623\n",
            "Epoch 7, Loss: 4.8624\n",
            "Epoch 8, Loss: 4.8137\n",
            "Epoch 9, Loss: 4.6845\n",
            "Epoch 10, Loss: 4.5749\n",
            "\n",
            "Evaluating model on the dataset...\n",
            "\n",
            "Average BLEU score: 0.0241\n",
            "Exact Match Accuracy: 0.00%\n",
            "\n",
            "Enter a sentence to correct grammar:\n",
            "she are running late\n",
            "Corrected: the is is a and the\n"
          ]
        }
      ]
    }
  ]
}