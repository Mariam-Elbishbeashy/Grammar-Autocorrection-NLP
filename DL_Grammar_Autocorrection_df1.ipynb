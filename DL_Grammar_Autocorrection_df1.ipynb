{
  "nbformat": 4,
  "nbformat_minor": 0,
  "metadata": {
    "colab": {
      "provenance": []
    },
    "kernelspec": {
      "name": "python3",
      "display_name": "Python 3"
    },
    "language_info": {
      "name": "python"
    }
  },
  "cells": [
    {
      "cell_type": "code",
      "execution_count": 33,
      "metadata": {
        "id": "s9EMM_Twwj7I"
      },
      "outputs": [],
      "source": [
        "import os\n",
        "import numpy as np\n",
        "import pandas as pd\n",
        "from sklearn.pipeline import Pipeline\n",
        "from sklearn.preprocessing import FunctionTransformer\n",
        "from sklearn.model_selection import train_test_split, StratifiedKFold, cross_val_score\n",
        "from sklearn.metrics import accuracy_score, classification_report\n",
        "from transformers import DistilBertModel, DistilBertTokenizerFast\n",
        "import torch\n",
        "from transformers import (\n",
        "    DistilBertTokenizerFast,\n",
        "    DistilBertForSequenceClassification,\n",
        "    Trainer,\n",
        "    TrainingArguments,\n",
        "    DataCollatorWithPadding\n",
        ")\n",
        "from datasets import Dataset\n",
        "from sklearn.metrics import precision_recall_fscore_support"
      ]
    },
    {
      "cell_type": "code",
      "source": [
        "from google.colab import drive\n",
        "drive.mount('/content/drive')"
      ],
      "metadata": {
        "colab": {
          "base_uri": "https://localhost:8080/"
        },
        "id": "YelhLoTjwr6Z",
        "outputId": "7a7c92d0-7682-47c5-c24f-35aa9c341a78"
      },
      "execution_count": 34,
      "outputs": [
        {
          "output_type": "stream",
          "name": "stdout",
          "text": [
            "Drive already mounted at /content/drive; to attempt to forcibly remount, call drive.mount(\"/content/drive\", force_remount=True).\n"
          ]
        }
      ]
    },
    {
      "cell_type": "code",
      "source": [
        "df = pd.read_csv('/content/drive/MyDrive/Grammar_autocorrection_df1_new.csv')"
      ],
      "metadata": {
        "id": "m57o9eOFwurN"
      },
      "execution_count": 35,
      "outputs": []
    },
    {
      "cell_type": "markdown",
      "source": [
        "# DistilBERT"
      ],
      "metadata": {
        "id": "7TQCdJZlEKhh"
      }
    },
    {
      "cell_type": "code",
      "source": [
        "# ── 0) Configuration ────────────────────────────────────────────────────────\n",
        "MODEL_DIR = 'distilbert_saved_model'\n",
        "\n",
        "# ── 1) If already saved, just reload ────────────────────────────────────────\n",
        "if os.path.isdir(MODEL_DIR):\n",
        "    tokenizer = DistilBertTokenizerFast.from_pretrained(MODEL_DIR)\n",
        "    model     = DistilBertForSequenceClassification.from_pretrained(MODEL_DIR)\n",
        "    print(f\"Loaded existing model from '{MODEL_DIR}', skipping training.\")\n",
        "\n",
        "# ── 2) Otherwise: 5-fold CV with metrics + retrain full head ────────────────\n",
        "else:\n",
        "    # Prepare texts & labels\n",
        "    texts  = df['Ungrammatical Statement'].tolist() + df['Standard English'].tolist()\n",
        "    labels = [0]*len(df) + [1]*len(df)\n",
        "\n",
        "    # Initialize tokenizer & pre-tokenize\n",
        "    tokenizer = DistilBertTokenizerFast.from_pretrained('distilbert-base-uncased')\n",
        "    encodings = tokenizer(texts, truncation=True, padding=True, max_length=128)\n",
        "\n",
        "    # Build Hugging Face Dataset\n",
        "    dataset = Dataset.from_dict({\n",
        "        'input_ids':      encodings['input_ids'],\n",
        "        'attention_mask': encodings['attention_mask'],\n",
        "        'labels':         labels\n",
        "    })\n",
        "\n",
        "    # Load model & freeze encoder layers\n",
        "    model = DistilBertForSequenceClassification.from_pretrained(\n",
        "        'distilbert-base-uncased',\n",
        "        num_labels=2\n",
        "    )\n",
        "    for param in model.distilbert.parameters():\n",
        "        param.requires_grad = False\n",
        "\n",
        "    # Data collator for dynamic padding\n",
        "    data_collator = DataCollatorWithPadding(tokenizer)\n",
        "\n",
        "    # Metric computation function\n",
        "    def compute_metrics(p):\n",
        "        preds = p.predictions.argmax(-1)\n",
        "        acc   = accuracy_score(p.label_ids, preds)\n",
        "        prec, rec, f1, _ = precision_recall_fscore_support(\n",
        "            p.label_ids, preds, average='binary'\n",
        "        )\n",
        "        return {\n",
        "            'accuracy':  acc,\n",
        "            'precision': prec,\n",
        "            'recall':    rec,\n",
        "            'f1':        f1\n",
        "        }\n",
        "\n",
        "    # Prepare lists to collect per-fold metrics\n",
        "    accuracy_scores  = []\n",
        "    precision_scores = []\n",
        "    recall_scores    = []\n",
        "    f1_scores        = []\n",
        "\n",
        "    # 5-fold CV, 1 epoch per fold for speed\n",
        "    cv = StratifiedKFold(n_splits=5, shuffle=True, random_state=42)\n",
        "    for fold, (train_idx, val_idx) in enumerate(cv.split(texts, labels), start=1):\n",
        "        print(f\"=== Fold {fold}/5 ===\")\n",
        "        train_ds = dataset.select(train_idx)\n",
        "        val_ds   = dataset.select(val_idx)\n",
        "\n",
        "        training_args = TrainingArguments(\n",
        "            output_dir=f'./cv_fold{fold}',\n",
        "            num_train_epochs=1,\n",
        "            per_device_train_batch_size=16,\n",
        "            per_device_eval_batch_size=32,\n",
        "            eval_strategy='epoch',\n",
        "            logging_strategy='epoch',\n",
        "            save_strategy='no',\n",
        "            fp16=True,               # set to False if no GPU\n",
        "            report_to=['none'],\n",
        "            seed=42\n",
        "        )\n",
        "\n",
        "        trainer = Trainer(\n",
        "            model=model,\n",
        "            args=training_args,\n",
        "            train_dataset=train_ds,\n",
        "            eval_dataset=val_ds,\n",
        "            data_collator=data_collator,\n",
        "            compute_metrics=compute_metrics\n",
        "        )\n",
        "\n",
        "        trainer.train()\n",
        "        metrics = trainer.evaluate()\n",
        "\n",
        "        # Collect metrics\n",
        "        accuracy_scores.append(metrics['eval_accuracy'])\n",
        "        precision_scores.append(metrics['eval_precision'])\n",
        "        recall_scores.append(metrics['eval_recall'])\n",
        "        f1_scores.append(metrics['eval_f1'])\n",
        "\n",
        "        # Print per-fold results\n",
        "        print(f\"Fold {fold}: \"\n",
        "              f\"Acc {metrics['eval_accuracy']:.4f}, \"\n",
        "              f\"Prec {metrics['eval_precision']:.4f}, \"\n",
        "              f\"Rec {metrics['eval_recall']:.4f}, \"\n",
        "              f\"F1 {metrics['eval_f1']:.4f}\")\n",
        "\n",
        "    # Summarize CV\n",
        "    def report(name, vals):\n",
        "        mean, std = np.mean(vals), np.std(vals)\n",
        "        print(f\"{name}: {mean:.4f} ± {std:.4f}\")\n",
        "\n",
        "    print(\"\\n=== CV summary over 5 folds ===\")\n",
        "    report(\"Accuracy\",  accuracy_scores)\n",
        "    report(\"Precision\", precision_scores)\n",
        "    report(\"Recall\",    recall_scores)\n",
        "    report(\"F1-score\",  f1_scores)\n",
        "\n",
        "    # Retrain head on full dataset\n",
        "    print(\"\\nRetraining classifier head on the full dataset…\")\n",
        "    full_args = TrainingArguments(\n",
        "        output_dir='./full_train',\n",
        "        num_train_epochs=2,\n",
        "        per_device_train_batch_size=16,\n",
        "        save_strategy='no',\n",
        "        fp16=True,\n",
        "        report_to=['none']\n",
        "    )\n",
        "    trainer_full = Trainer(\n",
        "        model=model,\n",
        "        args=full_args,\n",
        "        train_dataset=dataset,\n",
        "        data_collator=data_collator,\n",
        "        compute_metrics=compute_metrics\n",
        "    )\n",
        "    trainer_full.train()\n",
        "\n",
        "    # Save the fine-tuned model & tokenizer\n",
        "    model.save_pretrained(MODEL_DIR)\n",
        "    tokenizer.save_pretrained(MODEL_DIR)\n",
        "    print(f\"Saved model in '{MODEL_DIR}'\")\n"
      ],
      "metadata": {
        "colab": {
          "base_uri": "https://localhost:8080/",
          "height": 1000
        },
        "id": "6BYqyHQtwzyg",
        "outputId": "4ab5e848-7e59-4479-fd41-04c7caf7271b"
      },
      "execution_count": 36,
      "outputs": [
        {
          "output_type": "stream",
          "name": "stderr",
          "text": [
            "Some weights of DistilBertForSequenceClassification were not initialized from the model checkpoint at distilbert-base-uncased and are newly initialized: ['classifier.bias', 'classifier.weight', 'pre_classifier.bias', 'pre_classifier.weight']\n",
            "You should probably TRAIN this model on a down-stream task to be able to use it for predictions and inference.\n"
          ]
        },
        {
          "output_type": "stream",
          "name": "stdout",
          "text": [
            "=== Fold 1/5 ===\n"
          ]
        },
        {
          "output_type": "display_data",
          "data": {
            "text/plain": [
              "<IPython.core.display.HTML object>"
            ],
            "text/html": [
              "\n",
              "    <div>\n",
              "      \n",
              "      <progress value='202' max='202' style='width:300px; height:20px; vertical-align: middle;'></progress>\n",
              "      [202/202 03:18, Epoch 1/1]\n",
              "    </div>\n",
              "    <table border=\"1\" class=\"dataframe\">\n",
              "  <thead>\n",
              " <tr style=\"text-align: left;\">\n",
              "      <th>Epoch</th>\n",
              "      <th>Training Loss</th>\n",
              "      <th>Validation Loss</th>\n",
              "      <th>Accuracy</th>\n",
              "      <th>Precision</th>\n",
              "      <th>Recall</th>\n",
              "      <th>F1</th>\n",
              "    </tr>\n",
              "  </thead>\n",
              "  <tbody>\n",
              "    <tr>\n",
              "      <td>1</td>\n",
              "      <td>0.689400</td>\n",
              "      <td>0.690914</td>\n",
              "      <td>0.534653</td>\n",
              "      <td>0.524648</td>\n",
              "      <td>0.737624</td>\n",
              "      <td>0.613169</td>\n",
              "    </tr>\n",
              "  </tbody>\n",
              "</table><p>"
            ]
          },
          "metadata": {}
        },
        {
          "output_type": "display_data",
          "data": {
            "text/plain": [
              "<IPython.core.display.HTML object>"
            ],
            "text/html": [
              "\n",
              "    <div>\n",
              "      \n",
              "      <progress value='26' max='26' style='width:300px; height:20px; vertical-align: middle;'></progress>\n",
              "      [26/26 00:34]\n",
              "    </div>\n",
              "    "
            ]
          },
          "metadata": {}
        },
        {
          "output_type": "stream",
          "name": "stdout",
          "text": [
            "Fold 1: Acc 0.5347, Prec 0.5246, Rec 0.7376, F1 0.6132\n",
            "=== Fold 2/5 ===\n"
          ]
        },
        {
          "output_type": "display_data",
          "data": {
            "text/plain": [
              "<IPython.core.display.HTML object>"
            ],
            "text/html": [
              "\n",
              "    <div>\n",
              "      \n",
              "      <progress value='202' max='202' style='width:300px; height:20px; vertical-align: middle;'></progress>\n",
              "      [202/202 03:17, Epoch 1/1]\n",
              "    </div>\n",
              "    <table border=\"1\" class=\"dataframe\">\n",
              "  <thead>\n",
              " <tr style=\"text-align: left;\">\n",
              "      <th>Epoch</th>\n",
              "      <th>Training Loss</th>\n",
              "      <th>Validation Loss</th>\n",
              "      <th>Accuracy</th>\n",
              "      <th>Precision</th>\n",
              "      <th>Recall</th>\n",
              "      <th>F1</th>\n",
              "    </tr>\n",
              "  </thead>\n",
              "  <tbody>\n",
              "    <tr>\n",
              "      <td>1</td>\n",
              "      <td>0.685700</td>\n",
              "      <td>0.681561</td>\n",
              "      <td>0.596035</td>\n",
              "      <td>0.597964</td>\n",
              "      <td>0.583127</td>\n",
              "      <td>0.590452</td>\n",
              "    </tr>\n",
              "  </tbody>\n",
              "</table><p>"
            ]
          },
          "metadata": {}
        },
        {
          "output_type": "display_data",
          "data": {
            "text/plain": [
              "<IPython.core.display.HTML object>"
            ],
            "text/html": [
              "\n",
              "    <div>\n",
              "      \n",
              "      <progress value='26' max='26' style='width:300px; height:20px; vertical-align: middle;'></progress>\n",
              "      [26/26 00:36]\n",
              "    </div>\n",
              "    "
            ]
          },
          "metadata": {}
        },
        {
          "output_type": "stream",
          "name": "stdout",
          "text": [
            "Fold 2: Acc 0.5960, Prec 0.5980, Rec 0.5831, F1 0.5905\n",
            "=== Fold 3/5 ===\n"
          ]
        },
        {
          "output_type": "display_data",
          "data": {
            "text/plain": [
              "<IPython.core.display.HTML object>"
            ],
            "text/html": [
              "\n",
              "    <div>\n",
              "      \n",
              "      <progress value='202' max='202' style='width:300px; height:20px; vertical-align: middle;'></progress>\n",
              "      [202/202 03:18, Epoch 1/1]\n",
              "    </div>\n",
              "    <table border=\"1\" class=\"dataframe\">\n",
              "  <thead>\n",
              " <tr style=\"text-align: left;\">\n",
              "      <th>Epoch</th>\n",
              "      <th>Training Loss</th>\n",
              "      <th>Validation Loss</th>\n",
              "      <th>Accuracy</th>\n",
              "      <th>Precision</th>\n",
              "      <th>Recall</th>\n",
              "      <th>F1</th>\n",
              "    </tr>\n",
              "  </thead>\n",
              "  <tbody>\n",
              "    <tr>\n",
              "      <td>1</td>\n",
              "      <td>0.680200</td>\n",
              "      <td>0.674387</td>\n",
              "      <td>0.587361</td>\n",
              "      <td>0.585784</td>\n",
              "      <td>0.593052</td>\n",
              "      <td>0.589396</td>\n",
              "    </tr>\n",
              "  </tbody>\n",
              "</table><p>"
            ]
          },
          "metadata": {}
        },
        {
          "output_type": "display_data",
          "data": {
            "text/plain": [
              "<IPython.core.display.HTML object>"
            ],
            "text/html": [
              "\n",
              "    <div>\n",
              "      \n",
              "      <progress value='26' max='26' style='width:300px; height:20px; vertical-align: middle;'></progress>\n",
              "      [26/26 00:34]\n",
              "    </div>\n",
              "    "
            ]
          },
          "metadata": {}
        },
        {
          "output_type": "stream",
          "name": "stdout",
          "text": [
            "Fold 3: Acc 0.5874, Prec 0.5858, Rec 0.5931, F1 0.5894\n",
            "=== Fold 4/5 ===\n"
          ]
        },
        {
          "output_type": "display_data",
          "data": {
            "text/plain": [
              "<IPython.core.display.HTML object>"
            ],
            "text/html": [
              "\n",
              "    <div>\n",
              "      \n",
              "      <progress value='202' max='202' style='width:300px; height:20px; vertical-align: middle;'></progress>\n",
              "      [202/202 03:14, Epoch 1/1]\n",
              "    </div>\n",
              "    <table border=\"1\" class=\"dataframe\">\n",
              "  <thead>\n",
              " <tr style=\"text-align: left;\">\n",
              "      <th>Epoch</th>\n",
              "      <th>Training Loss</th>\n",
              "      <th>Validation Loss</th>\n",
              "      <th>Accuracy</th>\n",
              "      <th>Precision</th>\n",
              "      <th>Recall</th>\n",
              "      <th>F1</th>\n",
              "    </tr>\n",
              "  </thead>\n",
              "  <tbody>\n",
              "    <tr>\n",
              "      <td>1</td>\n",
              "      <td>0.676400</td>\n",
              "      <td>0.665770</td>\n",
              "      <td>0.612144</td>\n",
              "      <td>0.598272</td>\n",
              "      <td>0.685644</td>\n",
              "      <td>0.638985</td>\n",
              "    </tr>\n",
              "  </tbody>\n",
              "</table><p>"
            ]
          },
          "metadata": {}
        },
        {
          "output_type": "display_data",
          "data": {
            "text/plain": [
              "<IPython.core.display.HTML object>"
            ],
            "text/html": [
              "\n",
              "    <div>\n",
              "      \n",
              "      <progress value='26' max='26' style='width:300px; height:20px; vertical-align: middle;'></progress>\n",
              "      [26/26 00:35]\n",
              "    </div>\n",
              "    "
            ]
          },
          "metadata": {}
        },
        {
          "output_type": "stream",
          "name": "stdout",
          "text": [
            "Fold 4: Acc 0.6121, Prec 0.5983, Rec 0.6856, F1 0.6390\n",
            "=== Fold 5/5 ===\n"
          ]
        },
        {
          "output_type": "display_data",
          "data": {
            "text/plain": [
              "<IPython.core.display.HTML object>"
            ],
            "text/html": [
              "\n",
              "    <div>\n",
              "      \n",
              "      <progress value='202' max='202' style='width:300px; height:20px; vertical-align: middle;'></progress>\n",
              "      [202/202 03:15, Epoch 1/1]\n",
              "    </div>\n",
              "    <table border=\"1\" class=\"dataframe\">\n",
              "  <thead>\n",
              " <tr style=\"text-align: left;\">\n",
              "      <th>Epoch</th>\n",
              "      <th>Training Loss</th>\n",
              "      <th>Validation Loss</th>\n",
              "      <th>Accuracy</th>\n",
              "      <th>Precision</th>\n",
              "      <th>Recall</th>\n",
              "      <th>F1</th>\n",
              "    </tr>\n",
              "  </thead>\n",
              "  <tbody>\n",
              "    <tr>\n",
              "      <td>1</td>\n",
              "      <td>0.672000</td>\n",
              "      <td>0.658086</td>\n",
              "      <td>0.635688</td>\n",
              "      <td>0.622222</td>\n",
              "      <td>0.693069</td>\n",
              "      <td>0.655738</td>\n",
              "    </tr>\n",
              "  </tbody>\n",
              "</table><p>"
            ]
          },
          "metadata": {}
        },
        {
          "output_type": "display_data",
          "data": {
            "text/plain": [
              "<IPython.core.display.HTML object>"
            ],
            "text/html": [
              "\n",
              "    <div>\n",
              "      \n",
              "      <progress value='26' max='26' style='width:300px; height:20px; vertical-align: middle;'></progress>\n",
              "      [26/26 00:34]\n",
              "    </div>\n",
              "    "
            ]
          },
          "metadata": {}
        },
        {
          "output_type": "stream",
          "name": "stdout",
          "text": [
            "Fold 5: Acc 0.6357, Prec 0.6222, Rec 0.6931, F1 0.6557\n",
            "\n",
            "=== CV summary over 5 folds ===\n",
            "Accuracy: 0.5932 ± 0.0336\n",
            "Precision: 0.5858 ± 0.0328\n",
            "Recall: 0.6585 ± 0.0603\n",
            "F1-score: 0.6175 ± 0.0263\n",
            "\n",
            "Retraining classifier head on the full dataset…\n"
          ]
        },
        {
          "output_type": "display_data",
          "data": {
            "text/plain": [
              "<IPython.core.display.HTML object>"
            ],
            "text/html": [
              "\n",
              "    <div>\n",
              "      \n",
              "      <progress value='506' max='506' style='width:300px; height:20px; vertical-align: middle;'></progress>\n",
              "      [506/506 06:40, Epoch 2/2]\n",
              "    </div>\n",
              "    <table border=\"1\" class=\"dataframe\">\n",
              "  <thead>\n",
              " <tr style=\"text-align: left;\">\n",
              "      <th>Step</th>\n",
              "      <th>Training Loss</th>\n",
              "    </tr>\n",
              "  </thead>\n",
              "  <tbody>\n",
              "    <tr>\n",
              "      <td>500</td>\n",
              "      <td>0.667000</td>\n",
              "    </tr>\n",
              "  </tbody>\n",
              "</table><p>"
            ]
          },
          "metadata": {}
        },
        {
          "output_type": "stream",
          "name": "stdout",
          "text": [
            "Saved model in 'distilbert_saved_model'\n"
          ]
        }
      ]
    },
    {
      "cell_type": "code",
      "source": [
        "# 1) Load your saved model & tokenizer\n",
        "MODEL_DIR = 'distilbert_saved_model'\n",
        "tokenizer = DistilBertTokenizerFast.from_pretrained(MODEL_DIR)\n",
        "model     = DistilBertForSequenceClassification.from_pretrained(MODEL_DIR)\n",
        "model.eval()\n",
        "\n",
        "# 2) Prompt the user for input\n",
        "sentence = input(\"Enter a sentence to check (grammar):\\n> \")\n",
        "\n",
        "# 3) Tokenize & forward pass\n",
        "enc = tokenizer([sentence], padding=True, truncation=True, return_tensors='pt', max_length=128)\n",
        "with torch.no_grad():\n",
        "    logits = model(**enc).logits\n",
        "\n",
        "# 4) Convert to probabilities & predicted label\n",
        "probs = torch.softmax(logits, dim=-1)[0]\n",
        "pred  = probs.argmax().item()\n",
        "label = \"Correct\" if pred == 1 else \"Ungrammatical\"\n",
        "score = probs[pred].item()\n",
        "\n",
        "# 5) Print result\n",
        "print(f\"\\n\\\"{sentence}\\\" → {label} (confidence: {score:.2f})\")"
      ],
      "metadata": {
        "colab": {
          "base_uri": "https://localhost:8080/"
        },
        "id": "yJRQg-aIN6wy",
        "outputId": "ca9d4d7b-b73c-4d8f-abf3-72522fc075b6"
      },
      "execution_count": 37,
      "outputs": [
        {
          "output_type": "stream",
          "name": "stdout",
          "text": [
            "Enter a sentence to check (grammar):\n",
            "> she have a dog\n",
            "\n",
            "\"she have a dog\" → Ungrammatical (confidence: 0.54)\n"
          ]
        }
      ]
    }
  ]
}